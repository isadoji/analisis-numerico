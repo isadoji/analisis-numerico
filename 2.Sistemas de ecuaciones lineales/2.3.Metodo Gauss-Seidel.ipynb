{
 "cells": [
  {
   "cell_type": "markdown",
   "id": "2ec6f071",
   "metadata": {},
   "source": [
    "# Métodos iterativos ó indirectos para SEL\n",
    "\n",
    "Los métodos directos para resolver SEL usan un número finito de operaciones para encontrar la solución. Los métodos indirectos o iterativos para resolver SEL inician con una propouesta de solución $\\mathbf{x}$ y de manera repetitiva mejoran la solución hasta que el cambio en $\\mathbf{x}$ sea nulo bajo un criterio de tolerancia. En general, estos métodos son mas lentos, pero tienen dos ventajas:\n",
    "\n",
    "* Es posible solo guardar los elementos no nulos de la matríz de coeficientes, lo cual es ideal para el caso de matrices muy grandes y dispersas, pero que no necesariamente tienen bandas (en algunos problemas ni siquiera se requiere guardar la matríz de coeficientes),\n",
    "\n",
    "* Los procesos iterativos son auto-correctivos, lo que significa que los errores de redondeo (ó errores en aritmética) en un ciclo de la iteración, se corrigen en los siguientes ciclos.\n",
    "\n",
    "Otro tema es que los métodos iterativos no siempre convergen a la solución. Puede mostrarse que la convergencia esta garantizada solamente si la matríz es diagonalmente dominante. El valor inicial para la solución $\\mathbf{x}$ no juega ningún rol en determinar la convergencia se dá o no, sólo afecta para el número de iteraciones que se requieren para la convergencia."
   ]
  },
  {
   "cell_type": "markdown",
   "id": "d0946719",
   "metadata": {},
   "source": [
    "## Método Gauss-Seidel\n",
    "\n",
    "En notación escalar, el SEL $\\mathbf{Ax} = \\mathbf{b}$ es\n",
    "\\begin{equation}\n",
    "\\sum_{j=1}^n A_{ij}x_j = b_i, ~~~~~ i=1,2,\\ldots ,n\n",
    "\\end{equation}\n",
    "Podemos extraer el término que contiene $x_i$ de la suma\n",
    "\\begin{equation}\n",
    "A_{ii}x_i + \\sum_{j(\\neq i)=1}^n A_{ij}x_j = b_i, ~~~~~ i=1,2,\\ldots ,n\n",
    "\\end{equation}\n",
    "de donde podemos resolver para $x_i$ de la siguiente manera\n",
    "\\begin{equation}\n",
    "x_i = \\frac{1}{A_{ii}} \\left(b_i - \\sum_{j(\\neq i)=1}^n A_{ij}x_j \\right), ~~~~~ i=1,2,\\ldots ,n\n",
    "\\end{equation}\n",
    "\n",
    "La última expresión sugiere el siguiente esquema iterativo\n",
    "\\begin{equation}\n",
    "x_i \\leftarrow \\frac{1}{A_{ii}} \\left(b_i - \\sum_{j(\\neq i)=1}^n A_{ij}x_j \\right), ~~~~~ i=1,2,\\ldots ,n \\label{eq:seidel}\n",
    "\\end{equation}\n",
    "\n",
    "Los pasos a seguir son:\n",
    "1. comenzamos con un valor dado de $\\mathbf{x}$\n",
    "2. usamos $x_i$ para recalcular cada elemento de $\\mathbf{x}$\n",
    "3. repetir estos pasos hasta que los cambios en $\\mathbf{x}$ entre iteraciones sucesivas sean lo suficientemente pequeños.\n"
   ]
  },
  {
   "cell_type": "markdown",
   "id": "aa075971",
   "metadata": {},
   "source": [
    "## Convergencia del método Gauss-Seidel\n",
    "\n",
    "Se puede usar la técnica de *relajación* para mejorar la convergencia del método. La idea es tomar el nuevo valor de $x_i$ como un promedio pesado de su valor previo y del valor predicho por, es decir\n",
    "\n",
    "\\begin{equation}\n",
    "x_i \\leftarrow \\frac{\\omega}{A_{ii}} \\left(b_i - \\sum_{j(\\neq i)=1}^n A_{ij}x_j \\right) + \\left(1-\\omega \\right)x_i, ~~~~~ i=1,2,\\ldots ,n \n",
    "\\end{equation}\n",
    "\n",
    "donde $\\omega$ es el *factor de relajación*. \n",
    "\n",
    "Casos para la relajación\n",
    "* Si $\\omega = 1$, no hay relajación del sistema\n",
    "* Si $\\omega < 1$, entonces esta expresión representa la interpolación entre el viejo valor de $x_i$ y el nuevo valor, tenemos *under-relaxation*\n",
    "* Si $\\omega > 1$ tenemos extrapolación ó *over-relaxation*\n",
    "\n",
    "¿Cómo podemos determinar $\\omega$?\n",
    "\n",
    "Supongamos que $\\Delta x^{(k)} = |\\mathbf{x}^{(k-1)} - \\mathbf{x}^{(k)}|$ es la magnitud del cambio de $\\mathbf{x}$ durante la $k$-ésima iteración (que se lleva a cabo con $\\omega = 1$). Si $k$ es suficientemente grande, puede mostrarse que una aproximación óptima al valor de $\\omega$ es\n",
    "\n",
    "\\begin{equation}\n",
    "\\omega_{\\mathrm{opt}} = \\frac{2}{1+\\sqrt{1-\\left(\\frac{\\Delta x^{(k+p)}}{\\Delta x^{(k)}} \\right)^{1/p}}}, ~~~~~ p ~~\\mbox{entero positivo}\\label{eq:opt}\n",
    "\\end{equation}"
   ]
  },
  {
   "cell_type": "markdown",
   "id": "0dbbed4c",
   "metadata": {},
   "source": [
    "## Algoritmo del método Gauss-Seidel\n",
    "\n",
    "Paso 1. Llevar a cabo $k=10$ iteraciones con $\\omega=1$.\n",
    "\n",
    "Paso 2. Guardar $\\Delta x^{(k)}$.\n",
    "\n",
    "Paso 3. Realizar las siguientes $p$ iteraciones. \n",
    "\n",
    "Paso 4. Guardar $\\Delta x^{(k+p)}$. \n",
    "\n",
    "Paso 5. Calcular $\\omega_{\\mathrm{opt}}$ \n",
    "\n",
    "Paso 6. Realizar las siguientes iteraciones con $\\omega = \\omega_{\\mathrm{opt}}$.\n"
   ]
  },
  {
   "cell_type": "code",
   "execution_count": null,
   "id": "f77e6722",
   "metadata": {},
   "outputs": [],
   "source": [
    "## modulo gaussSeidel\n",
    "''' x,numIter,omega = gaussSeidel(iterEqs,x,tol = 1.0e-9)\n",
    "Metodo Gauss-Seidel para resolver [A]{x} = {b}.\n",
    "La matriz [A] debe ser dispersa. El/La usuario va a declarar la \n",
    "funcion iterEqs(x,omega) que da la version mejorada de {x},\n",
    "a partir del valor actual de {x} (omega es el factor de relajacion).\n",
    "'''\n",
    "import numpy as np\n",
    "import math\n",
    "\n",
    "def gaussSeidel(iterEqs,x,tol = 1.0e-9):\n",
    "  omega = 1.0\n",
    "  k = 10\n",
    "  p = 1\n",
    "  for i in range(1,501):\n",
    "    xOld = x.copy()\n",
    "    x = iterEqs(x,omega)\n",
    "    dx = math.sqrt(np.dot(x-xOld,x-xOld))\n",
    "    if dx < tol: return x,i,omega\n",
    "    # Calcula el factor de relajacion despues de k+p iteraciones\n",
    "    if i == k: dx1 = dx\n",
    "    if i == k + p:\n",
    "      dx2 = dx\n",
    "      omega = 2.0/(1.0 + math.sqrt(1.0 - (dx2/dx1)**(1.0/p)))\n",
    "  print('Gauss-Seidel no converge')"
   ]
  },
  {
   "cell_type": "markdown",
   "id": "c9f981b3",
   "metadata": {},
   "source": [
    "El usuario tiene que definir la función *iterEqs(x,omega)* que debe regresar el valor mejorado de $\\mathbf{x}$, dado el valor de $\\mathbf{x}$ actual"
   ]
  },
  {
   "cell_type": "markdown",
   "id": "f0f5c696",
   "metadata": {},
   "source": [
    "# Ejemplo 1. Método Gauss-Seidel\n",
    "\n",
    "Considera la matríz aumentada que es *tridiagonal cíclica* que surge de un sistema de ecuaciones diferenciales de segundo orden con condiciones de frontera periódicas sobre las que se usó la formulación de diferencias finitas.\n",
    "$$\n",
    "\\begin{bmatrix}\n",
    "2 & -1 & 0 & 0 & \\cdots & 0 & 0 & 0 & 1 \\\\\n",
    "-1 & 2 & -1 & 0 & \\cdots & 0 & 0 & 0 & 0 \\\\\n",
    "0 & -1 & 2 & -1 & \\cdots & 0 & 0 & 0 & 0 \\\\\n",
    "\\vdots & \\vdots & \\vdots & \\vdots &  & \\vdots & \\vdots & \\vdots & \\vdots\\\\\n",
    "0 & 0 & 0 & 0 & \\cdots & -1 & 2 & -1 & 0 \\\\\n",
    "0 & 0 & 0 & 0 & \\cdots & 0 & -1 & 2 & -1 \\\\\n",
    "1 & 0 & 0 & 0 & \\cdots & 0 & 0 & -1 & 2\n",
    "\\end{bmatrix}~~\\begin{bmatrix}\n",
    "x_1 \\\\ x_2 \\\\ x_3 \\\\ \\vdots \\\\ x_{n-2} \\\\ x_{n-1} \\\\x_{n} \n",
    "\\end{bmatrix}~=~\\begin{bmatrix}\n",
    "0 \\\\ 0 \\\\ 0 \\\\ \\vdots \\\\ 0 \\\\ 0 \\\\ 1 \n",
    "\\end{bmatrix}\n",
    "$$\n",
    "\n",
    "Resuelve para $n=20$. La solución exacta se conoce y es $x_i = -n/4 + i/2$ con $i=1,2,\\ldots ,n$.\n"
   ]
  },
  {
   "cell_type": "markdown",
   "id": "e09ff7dd",
   "metadata": {},
   "source": [
    "En este caso las fórmulas iterativas que se derivan de la $x_i$ con $\\omega  y que programamos como la función *IterEqs* son:\n",
    "\n",
    "\\begin{eqnarray}\n",
    "x_1 & = & \\omega (x_2-x_n)/2 + (1-\\omega)x_1 \\nonumber \\\\\n",
    "x_i & = & \\omega (x_{i-1}-x_{i+1})/2 + (1-\\omega)x_i, ~~~ i=2,3,\\ldots ,n-1 \\\\\n",
    "x_n & = & \\omega (1-x_1-x_{n-1})/2 + (1-\\omega)x_n \\nonumber \\\\\n",
    "\\end{eqnarray}\n",
    "\n",
    "\n",
    "Entonces la resolución del ejemplo es usando el algoritmo *gaussSeidel* con *IterEqs* que es específica al problema:"
   ]
  },
  {
   "cell_type": "code",
   "execution_count": null,
   "id": "c9962326",
   "metadata": {},
   "outputs": [],
   "source": [
    "#### Construccion de valores interpolados con la matriz del ejemplo.\n",
    "\n",
    "def iterEqs(x,omega):\n",
    "  n = len(x)\n",
    "  x[0] = omega*(x[1] - x[n-1])/2.0 + (1.0 - omega)*x[0]\n",
    "  for i in range(1,n-1):\n",
    "    x[i] = omega*(x[i-1] + x[i+1])/2.0 + (1.0 - omega)*x[i]\n",
    "  x[n-1] = omega*(1.0 - x[0] + x[n-2])/2.0 + (1.0 - omega)*x[n-1]\n",
    "  return x\n",
    "\n",
    "### El/La Usuaria da el numero de ecuaciones que tiene el SEL\n",
    "\n",
    "n = eval(input(\"Numero de ecuaciones ==> \")) \n",
    "\n",
    "### El valor de inicializacion del metodo iterativo es un vector de ceros\n",
    "\n",
    "x = np.zeros(n)\n",
    "\n",
    "### Implementacion del Metodo de Gauss-Seidel para el ejemplo\n",
    "\n",
    "x,numIter,omega = gaussSeidel(iterEqs,x)\n",
    "\n",
    "print(\"\\nNumero de iteraciones =\",numIter)\n",
    "print(\"\\nFactor de relajacion =\",omega)\n",
    "print(\"\\nLa solucion es:\\n\",x)"
   ]
  }
 ],
 "metadata": {
  "kernelspec": {
   "display_name": "Python 3 (ipykernel)",
   "language": "python",
   "name": "python3"
  },
  "language_info": {
   "codemirror_mode": {
    "name": "ipython",
    "version": 3
   },
   "file_extension": ".py",
   "mimetype": "text/x-python",
   "name": "python",
   "nbconvert_exporter": "python",
   "pygments_lexer": "ipython3",
   "version": "3.8.10"
  }
 },
 "nbformat": 4,
 "nbformat_minor": 5
}
