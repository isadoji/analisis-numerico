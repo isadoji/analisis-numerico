{
 "cells": [
  {
   "cell_type": "markdown",
   "id": "8a149f06",
   "metadata": {},
   "source": [
    "# Sistema de $n$ ecuaciones lineales\n",
    "\n",
    "Nos interesa resolver un sistema de $n$ ecuaciones lineales con $n$ incógnitas. ¿Porqué? y ¿cómo?\n",
    "\n",
    "* Porque típicamente en los problemas que resolvemos estan involucradas muchas variables y muchas relaciones entre ellas.\n",
    "\n",
    "* Para resolver estos sistemas es necesario consumir muchos recursos computacionales (memoria, procesamiento, etc.).\n",
    "\n",
    "* Es posible reducir el uso intensivo de estos recursos, si conocemos diferentes algoritmos para resolver estos sistemas, dependiendo del tipo de **matríz coeficiente**, tal como sus simetrías o qué tan dispersa es, o si tiene bandas.\n",
    "\n",
    "Revisaremos 3 métodos directos que son los más usados.\n"
   ]
  },
  {
   "cell_type": "markdown",
   "id": "37b65a00",
   "metadata": {},
   "source": [
    "## Notación\n",
    "\n",
    "Un sistema de ecuaciones algebráicas  con $x_i$ incógnitas y con coeficientes $A_{ij}$ y constantes $b_j$ conocidos, tiene la forma\n",
    "\n",
    "\\begin{align}\n",
    "A_{11}x_1 + A_{12}x_2 + \\cdots + A_{1n}x_n &=& b_1 \\nonumber \\\\\n",
    "A_{21}x_1 + A_{22}x_2 + \\cdots + A_{2n}x_n &=& b_2 \\nonumber \\\\\n",
    "\\vdots & & \\vdots \\nonumber \\\\\n",
    "A_{n1}x_1 + A_{n2}x_2 + \\cdots + A_{nn}x_n &=& b_n \\nonumber \\\\\n",
    "\\end{align}\n"
   ]
  },
  {
   "cell_type": "markdown",
   "id": "750015f4",
   "metadata": {},
   "source": [
    "\n",
    "En notación matricial,\n",
    "\n",
    "\\begin{align*}\n",
    "\\begin{bmatrix}\n",
    "A_{11} & A_{12} & \\cdots & A_{1n} \\\\\n",
    "A_{21} & A_{22} & \\cdots & A_{2n} \\\\\n",
    "\\vdots & \\vdots & \\ddots & \\vdots \\\\\n",
    "A_{n1} & A_{n2} & \\cdots & A_{nn}\n",
    "\\end{bmatrix} \\begin{bmatrix}\n",
    "x_1 \\\\\n",
    "x_2 \\\\\n",
    "\\vdots \\\\\n",
    "x_n \\end{bmatrix} = \\begin{bmatrix}\n",
    "b_1 \\\\\n",
    "b_2 \\\\\n",
    "\\vdots \\\\\n",
    "b_n\n",
    "\\end{bmatrix}\n",
    "\\end{align*}\n"
   ]
  },
  {
   "cell_type": "markdown",
   "id": "e2646e80",
   "metadata": {},
   "source": [
    "\n",
    "que simplemente denotamos como\n",
    "\n",
    "\\begin{align*}\n",
    "\\mathbf{A~x} = \\mathbf{b}.\n",
    "\\end{align*}\n"
   ]
  },
  {
   "cell_type": "markdown",
   "id": "c6442566",
   "metadata": {},
   "source": [
    "\n",
    "## La matríz de coeficientes aumentada\n",
    "\n",
    "A veces nos interesa generar en nuestros códigos una representación del sistema de ecuaciones en términos de **la matríz de coeficientes aumentada**, que se obtiene anexando el vector $\\mathbf{b}$ a la matríz $\\mathbf{A}$, de la siguiente manera:\n",
    "\n",
    "\\begin{align*}\n",
    "\\left[\\left.\\mathbf{A}\\right|\\mathbf{b} \\right] = \\begin{bmatrix}\n",
    "A_{11} & A_{12} & \\cdots & A_{1n} &  b_1 \\\\\n",
    "A_{21} & A_{22} & \\cdots & A_{2n} &  b_2 \\\\\n",
    "\\vdots & \\vdots & \\ddots & \\vdots &  \\vdots \\\\\n",
    "A_{n1} & A_{n2} & \\cdots & A_{nn} &  b_n\n",
    " \\end{bmatrix}\n",
    "\\end{align*}\n"
   ]
  },
  {
   "cell_type": "markdown",
   "id": "f07f7791",
   "metadata": {},
   "source": [
    "\n",
    "## Unicidad de la solución\n",
    "\n",
    "Un sistema de $n$ ecuaciones lineales con $n$ incógnitas tiene **solución única** si el determinante de la matríz de coeficientes **no es singular o degenerada**, es decir\n",
    "\n",
    "\\begin{align*}\n",
    "\\det{\\mathbf{A}} \\neq 0.\n",
    "\\end{align*}\n"
   ]
  },
  {
   "cell_type": "markdown",
   "id": "903212ee",
   "metadata": {},
   "source": [
    "## Ejemplo - condición singular de matríz\n",
    "\n",
    "Consideren el sistema\n",
    "\n",
    "\\begin{align*}\n",
    "2x + y = 3 ~~~~~~~~~~ 2x + 1.001y = 0,\n",
    "\\end{align*}\n",
    "\n",
    "cuya solución es $x=1501.5$, $y=-3000$.\n",
    "\n",
    "La matríz $\\mathbf{A}$ del sistema y su determinante son\n",
    "\n",
    "\\begin{align*}\n",
    "\\mathbf{A} = \\begin{bmatrix}\n",
    "2 & 1 \\\\\n",
    "2 & 1.001\n",
    " \\end{bmatrix}, ~~~~~~~~~~ \\det{\\mathbf{A}} = 2(1.001) - 2(1) = 0.002\n",
    "\\end{align*}\n",
    "\n",
    "Vemos que $\\det{\\mathbf{A}} \\ll |A_{ij}|$, matríz singular!\n",
    "\n",
    "Pueden verificar el efecto de la condición singular de la matríz al cambiar 1.001 en el coeficiente de la segunda ecuación del sistema por el valor 1.002.\n",
    "\n",
    "Ahora la solución al sistema es $x=751.5$, $y=-1500$.\n",
    "\n",
    "**Un cambio de 0.1\\% en una entrada de la matríz, provocó un cambio en la solución de 100\\% !!!**\n",
    "\n",
    "**MORALEJA:** No se puede confiar en la solución numérica de sistemas de ecuaciones con matríz singular de coeficientes.\n",
    "\n",
    "¿Por? Errores de redondeo durante el proceso de solución equivalen a introducir pequeños cambios en la matríz de coeficientes. Esto introduce grandes errores en la solución. \n",
    "\n",
    "La magnitud de estos errores esta directamente conectada con el grado de condición singular de la matríz.\n",
    "\n",
    "**CONSEJO:** Monitorea la condición singular de las matrices con las que trabajas.\n"
   ]
  },
  {
   "cell_type": "markdown",
   "id": "d373d140",
   "metadata": {},
   "source": [
    "## Sistemas Lineales\n",
    "\n",
    "Cualquier sistema cuya respuesta es proporcional al input ó entrada, es un sistema lineal, e.g. estructuras, flujo de calor, drenaje de fluidos, campos electromagnéticos, circuitos eléctricos, etc.\n",
    "\t\n",
    "* Si el sistema es discreto (por ejemplo un circuito eléctrico), entonces el análisis lleva a un sistema lineal de ecuaciones algebráicas.\n",
    "\t\n",
    "* Si el sistema es contínuo, se describe con ecuaciones diferenciales. A veces, el método numérico para la resolución de las ecuaciones diferenciales, aproxima el sistema de ecuaciones diferenciales a un sistema de ecuaciones algebráicas.\n",
    "\n",
    "En resumen, el modelaje de sistemas lineales, invariablemente te lleva a resolver el sistema $\\mathbf{A~x} = \\mathbf{b}$, donde $\\mathbf{b}$ es el input o entrada y $\\mathbf{x}$ es la respuesta del sistema.\n",
    "\t\n",
    "La matríz coeficiente $\\mathbf{A}$, que codifica las características del sistema, es independiente del input o entrada.\n",
    "\t\n",
    "Es decir, si se cambia la entrada o input, las ecuaciones de tienen que resolver de nuevo con una $\\mathbf{b}$ diferente, pero con la misma $\\mathbf{A}$.\n",
    "\t\n",
    "Por lo anterior, es deseable tener un algoritmo que resuelva las ecuaciones y que pueda manejar cualquier cantidad de vectores constantes, con el mínimo esfuerzo computacional.\n",
    "\n",
    "Hay dos métodos de solución de sistemas de ecuaciones algebráicas lineales:\n",
    "\n",
    "1. **Métodos directos:** transforman las ecuaciones originales en ecuaciones equivalentes, i.e. ecuaciones que llevan a la misma solución pero que se resuelven más facilmente. La transformación de las ecuaciones originales se lleva a cabo aplicando tres operaciones elementales que no cambian la solución pero que afectan el $\\det{\\mathbf{A}}$.\n",
    "\n",
    "* intercambiar dos ecuaciones (cambia el signo de $\\det{\\mathbf{A}}$)\n",
    "* multiplicar una ecuación por una constante no nula (multiplica $\\det{\\mathbf{A}}$ por dicha constante)\n",
    "* multiplicar una ecuación por una constante no nula y después restarla a otra ecuación ( $\\det{\\mathbf{A}}$ no cambia}) \n",
    "\n",
    "2. Métodos indirectos o iterativos: comienzan con una solución supuesta $\\mathbf{x}$ y de manera repetitiva refinan la solución hasta que se cumple cierto criterio de convergencia. Estos métodos son menos eficientes puesto que requieren muchas iteraciones, pero son mejores para mbatrices de coeficientes muy escazas o dispersas y muy grandes.\n",
    "\n"
   ]
  },
  {
   "cell_type": "markdown",
   "id": "3b0ee33b",
   "metadata": {},
   "source": [
    "## Resumen de métodos directos\n",
    "\n",
    "Existen métodos directos populares que usan operaciones elementales para producir ecuaciones equivalentes fáciles de resolver.\n",
    "\n",
    "                    |        Método            | forma inicial | forma final  |\n",
    "                    | eliminación de Gauss     |    Ax = b     |    Ux = c    |\n",
    "                    | descomposición LU        |    Ax = b     |   LUx = b    |\n",
    "                    | eliminación Gauss-Jordan |    Ax = b     |    Ix = c    |\n",
    "\n",
    "donde (por ejemplo en $3\\times 3$)\n",
    "\n",
    "\n",
    "$U = \\begin{bmatrix}\n",
    "U_{11} & U_{12} & U_{13} \\\\\n",
    "0 & U_{22} & U_{23} \\\\\n",
    "0 & 0 & U_{33} \n",
    "\\end{bmatrix} ~~~~~~ L = \\begin{bmatrix}\n",
    "L_{11} & 0 & 0 \\\\\n",
    "L_{21} & L_{22} & 0 \\\\\n",
    "L_{31}  & L_{32} & L_{33} \n",
    "\\end{bmatrix} ~~~~~~ I = \\begin{bmatrix}\n",
    "1 & 0 & 0 \\\\\n",
    "0 & 1 & 0 \\\\\n",
    "0 & 0 & 1\n",
    "\\end{bmatrix}\n",
    "$\n",
    "\n",
    "Nos gustan las matrices triangulares porque simplifican los cálculos. Por ejemplo en las ecuaciones $\\mathbf{LU~x} = \\mathbf{b}$\n",
    "\n",
    "\\begin{align*}*\n",
    "\t\tL_{11}x_1 &=& c_1 \\\\\n",
    "\t\tL_{21}x_1 + L_{22}x_2 &=& c_2 \\\\\n",
    "\t\tL_{31}x_1 + L_{32}x_2 + L_{33}x_3 &=& c_3 \\\\\n",
    "\\end{align*}\n",
    "\n"
   ]
  },
  {
   "cell_type": "markdown",
   "id": "d61ff031",
   "metadata": {},
   "source": [
    "Si las resolvemos, el procedimiento es de sustitución **forward** y es muy sencillo\n",
    "\n",
    "\\begin{align*}\n",
    "\t\tx_1 &=& c_1/L_{11} \\\\\n",
    "\t\tx_2 &=& (c_2 - L_{21}x_1)/L_{22} \\\\\n",
    "\t\tx_3 &=& (c_3 - L_{31}x_1 - L_{32}x_2)/L_{33} \n",
    "    \\end{align*}\n",
    "        \n",
    "\n",
    "De manera similar en el método de eliminación de Gauss, la ecuación $\\mathbf{U~x} = \\mathbf{c}$ puede ser resuelta con sustitución **backward** que comienza con la última ecuación y va hacia atrás con el resto de las ecuaciones.\n",
    "\n",
    "Para resolver las ecuaciones $\\mathbf{LU~x} = \\mathbf{b}$ en la decomposición LU, puedes usar las dos ideas anteriores: primero sustitución **forward** para las ecuaciones $\\mathbf{L~y} = \\mathbf{b}$ y ya que conocemos $\\mathbf{y}$, finalmente resolvemos $\\mathbf{U~x} = \\mathbf{y}$ con sustitución **backward**.\n",
    "\t\n",
    "Las ecuaciones $\\mathbf{I~x} = \\mathbf{c}$ que se producen en el método de eliminación de Gauss-Jordan, son equivalentes a $\\mathbf{x} = \\mathbf{c}$, entonces $\\mathbf{c}$ es ya la solución.\t        "
   ]
  },
  {
   "cell_type": "markdown",
   "id": "0016317d",
   "metadata": {},
   "source": [
    "## Método de Eliminación de Gauss\n",
    "\n",
    "Tiene dos fases\n",
    "* **Fase de eliminación**, en donde el objetivo es transformar las ecuaciones $\\mathbf{A~x} = \\mathbf{b}$ y llevarlas a la forma $\\mathbf{U~x} = \\mathbf{c}$.\n",
    "* **Fase de sustitución backward**, en donde el objetivo es encontrar la solución a $\\mathbf{U~x} = \\mathbf{c}$ usando sustituciones.\n",
    "\n",
    "Utilicemos el siguiente sistema como ejemplo para resolverlo con este método:\n",
    "\n",
    "\\begin{align*}\n",
    "\t\t4x_1 - 2x_2 + x_3 &=& 11 ~~~~~~~~~~~~~~~ (a) \\\\\n",
    "\t\t-2x_1 + 4x_2 - 2x_3 &=& -16 ~~~~~~~~~~~~~(b)\\\\\n",
    "\t\tx_1 - 2x_2 + 4x_3 &=& 17 ~~~~~~~~~~~~~~~~(c)\n",
    "\\end{align*}\n"
   ]
  },
  {
   "cell_type": "markdown",
   "id": "a6dfe3a0",
   "metadata": {},
   "source": [
    "Solo se usa una operación elemental: multiplicar la Ec.($j$) por la constante $\\lambda$ y restarla de la Ec.($i$). La representación simbólica de esta operación es  ($\\det{\\mathbf{A}}$ no cambia)\n",
    "\n",
    "\\begin{align*}\n",
    "Ec.(i) \\leftarrow Ec.(i) ~-~ \\lambda\\times\\underbrace{Ec.}(j)_{pivote}\n",
    "\\end{align*}\n"
   ]
  },
  {
   "cell_type": "markdown",
   "id": "3aaa46cb",
   "metadata": {},
   "source": [
    "\t\n",
    "Comenzamos el proceso de eliminación tomando a la Ec.(a) como la pivote y escogiendo $\\lambda$ para que podamos eliminar $x_1$ de las ecuaciones (b) y (c):\n",
    "\n",
    "\n",
    "* Ec.(b) $\\leftarrow$ Ec.(b)-(-0.5) $\\times$ Ec.(a)\n",
    "* Ec.(c) $\\leftarrow$ Ec.(c)-(0.25) $\\times$ Ec.(a)\n"
   ]
  },
  {
   "cell_type": "markdown",
   "id": "60db4773",
   "metadata": {},
   "source": [
    "\n",
    "\n",
    "para tener ahora el sistema de ecuaciones asi\n",
    "\n",
    "\\begin{align*}\n",
    "4x_1 - 2x_2 + x_3 &=& 11 ~~~~~~~~~~~~~~~ (a) \\\\\n",
    "3x_2 - 1.5x_3 &=& -10.5 ~~~~~~~~~~~(b)\\\\\n",
    "- 1.5x_2 + 3.75x_3 &=& 14.25 ~~~~~~~~~~~~ (c)\n",
    "\\end{align*}\n"
   ]
  },
  {
   "cell_type": "markdown",
   "id": "57169c70",
   "metadata": {},
   "source": [
    "\n",
    "\n",
    "Ya completamos la primera pasada en la eliminación, ahora podemos escoger la ecuación (b) de pivote:\n",
    "\n",
    "* Ec.(c) $\\leftarrow$ Ec.(c) $-(-0.5)\\times$ Ec.(b)\n",
    "\n",
    "y esto nos deja el sistema de ecuaciones asi:\n",
    "\\begin{align*}\n",
    "4x_1 - 2x_2 + x_3 &=& 11 ~~~~~~~~~~~~~~~ (a) \\\\\n",
    "3x_2 - 1.5x_3 &=& -10.5 ~~~~~~~~~~~(b)\\\\\n",
    "3x_3 &=& 9 ~~~~~~~~~~~~~~~~~ (c)\n",
    "\\end{align*}\n",
    "\n",
    "Con esto completamos la fase de eliminación y ahora las ecuaciones se pueden resolver con sustitución **backward** facilmente para tener: $x_3=3, x_2=-2, x_1=1$.\n",
    "\n",
    "El procedimiento de eliminación de Gauss que llevamos a cabo, se puede ver como una transformación de la matríz aumentada:"
   ]
  },
  {
   "cell_type": "markdown",
   "id": "e1562ad4",
   "metadata": {},
   "source": [
    "<div> <img src=\"../fig/aumentada.jpg\" alt=\"Drawing\" style=\"width: 400px;\"/></div>\n",
    "\n",
    "donde se preserva la determinante, que en el caso de una matríz tringular es el producto de los elementos de la diagonal:\n",
    "\n",
    "$$\n",
    "\\det{\\mathbf{A}} = \\det{\\mathbf{U}} = U_{11}\\times U_{22}\\times \\cdots \\times U_{nn}.\n",
    "$$\n"
   ]
  },
  {
   "cell_type": "markdown",
   "id": "d8347340",
   "metadata": {},
   "source": [
    "\n",
    "\n",
    "\n",
    "**Fase de Eliminación.** Imagina que durante esta fase los primeros $k$ renglones de $\\mathbf{A}$ ya se transformaron a una forma trinagular superior. \n",
    "\n",
    "En este momento <font color='red'>la ecuación k-ésima es la pivote</font>  y las ecuaciones debajo de ella faltan de transformarse. \n",
    "\n",
    "\n",
    "<div> <img src=\"../fig/pivote.jpg\" alt=\"Drawing\" style=\"width: 400px;\"/></div>\n",
    "\n",
    "\n",
    "NOTA: Las componentes de $\\mathbf{A}$ y de $\\mathbf{b}$ en la parte transformada ya no son los originales, excepto el primer renglón.\n",
    "\n",
    "Por ejemplo, <font color='blue'>en la ecuación i-ésima </font>queremos eliminar el coeficiente $A_{ik}$. Podemos multiplicar el <font color='red'>renglón pivote</font> por \n",
    "$\\lambda= A_{ik}/A_{kk}$ y restarlo al renglón <font color='blue'> i-ésimo</font>.\n",
    "\t\n",
    "Podemos resumir los cambios que haremos en el <font color='blue'> i-ésimo </font>renglón asi:\n",
    "\n",
    "\\begin{align*}\n",
    "A_{ij} &\\leftarrow & A_{ij} - \\lambda A_{kj}, ~~~\\forall ~~~ j=k,k+1,\\ldots ,n \\\\\n",
    "b_i &\\leftarrow & b_i - \\lambda b_k \n",
    "\\end{align*}\n",
    "\n",
    "\n",
    "Si queremos transformar la matríz completa, escogemos el <font color='red'> renglón pivote cambiando k=1,2, ... ,n-1</font> y escogemos el <font color='blue'>  renglón a transformar cambiando i = k+1, k+2, ... ,n.</font>\n"
   ]
  },
  {
   "cell_type": "markdown",
   "id": "21ac9f39",
   "metadata": {},
   "source": [
    "## Algoritmo del método de eliminación de Gauss\n",
    "\n",
    "!Prácticamente se escribe solo!"
   ]
  },
  {
   "cell_type": "code",
   "execution_count": 1,
   "id": "26d9324c",
   "metadata": {},
   "outputs": [],
   "source": [
    "# Fase de eliminacion\n",
    "n =0\n",
    "for k in range(0,n-1):\n",
    "    for i in range(k+1,n):\n",
    "        if a[i,k] != 0.0:\n",
    "            lam = a [i,k]/a[k,k]\n",
    "            a[i,k+1:n] = a[i,k+1:n] - lam*a[k,k+1:n]\n",
    "            b[i] = b[i] - lam*b[k]          "
   ]
  },
  {
   "cell_type": "markdown",
   "id": "6c6ccea7",
   "metadata": {},
   "source": [
    "Nos estamos ahorrando cálculos porque \n",
    "\n",
    "* si $A_{ik} = 0$, ese renglón no necesitamos transformarlo y nos lo saltamos,\n",
    "* el índice $j$ comienza en $k$, pero nosotros comenzamos en $k+1$, por lo tanto $A_{ik}$ no se reemplaza por cero, sino que se queda con su valor original $\\to$ la fase de encontrar solución con sustitución **backward** nunca accesa la parte inferior de la matríz triangular, asi que su contenido es irrelevante."
   ]
  },
  {
   "cell_type": "markdown",
   "id": "cdd9b7c9",
   "metadata": {},
   "source": [
    "**Fase de sustitución backwards** Después de la eliminación de Gauss, la matríz de coeficientes aumentada tiene la forma:\n",
    "\n",
    "<div> <img src=\"../fig/backward.jpg\" alt=\"Drawing\" style=\"width: 400px;\"/></div>\n",
    "\n",
    "La última ecuación $A_{nn}x_n=b_n$  se resuelve primero para tener $x_n= b_n/A_{nn}$. Si seguimos sustituyendo hacia atrás y usamos $x_n$ para encontrar $x_{n-1}, x_{n-2}, \\ldots ,x_k$ a partir de la $k$-ésima ec.,\n",
    "\n",
    "\\begin{equation}\n",
    "A_{kk}x_k + A_{k,k+1}x_{k+1} + \\cdots + A_{kn}x_n = b_k,\n",
    "\\end{equation}\n",
    "\n",
    "la solución será\n",
    "\n",
    "\\begin{equation}\n",
    "x_k = \\left(b_k - \\sum_{j=k+1}^n A_{kj}x_j \\right)\\frac{1}{A_{kk}}, ~~~~~~~~~k=n-1,n-2,\\ldots,1.\n",
    "\\end{equation}\n",
    "\n",
    "Entonces el algoritmo para sustitución hacia atrás o **backwards** es"
   ]
  },
  {
   "cell_type": "code",
   "execution_count": 2,
   "id": "1eead398",
   "metadata": {},
   "outputs": [],
   "source": [
    "for k in range(n-1,-1,-1):\n",
    "    b[k] = (b[k] - np.dot(a[k,k+1:n],b[k+1:n]))/a[k,k]"
   ]
  },
  {
   "cell_type": "markdown",
   "id": "bcb8be00",
   "metadata": {},
   "source": [
    "## Conteo de operaciones y eficiencia del algoritmo.\n",
    "\n",
    "El tiempo de ejecución de un algortimo depende en buena medida del número de multiplicaciones y divisiones que realice. Puedes mostrar que el método de eliminación de Gauss contiene $\\sim n^3/3$ de esas operaciones (para un sistema de $n$ ecuaciones) en la fase de eliminación y $\\sim n^2/2$ operaciones en la fase de sustitución hacia atrás."
   ]
  },
  {
   "cell_type": "markdown",
   "id": "1e563dba",
   "metadata": {},
   "source": [
    "# Algoritmo del método de eliminación de Gauss\n",
    "\n",
    "La función *gaussElimin* combina la eliminación y la sustitución hacia atrás. Durante la sustitución hacia atrás $\\mathbf{b}$ se reescribe por el vector solución $\\mathbf{x}$, para que $\\mathbf{b}$ contenga la solución del sistema al terminar."
   ]
  },
  {
   "cell_type": "code",
   "execution_count": 3,
   "id": "421b7752",
   "metadata": {},
   "outputs": [],
   "source": [
    "## modulo gaussElimin\n",
    "'''\n",
    "x = gaussElimin(a,b).\n",
    "Resuelve [a]{x} = {b} por metodo eliminacion de Gauss.\n",
    "'''\n",
    "import numpy as np\n",
    "\n",
    "def gaussElimin(a,b):\n",
    "  n = len(b)\n",
    "  # Fase de eliminacion\n",
    "  for k in range(0,n-1):\n",
    "    for i in range(k+1,n):\n",
    "      if a[i,k] != 0.0:\n",
    "        lam = a [i,k]/a[k,k]\n",
    "        a[i,k+1:n] = a[i,k+1:n] - lam*a[k,k+1:n]\n",
    "        b[i] = b[i] - lam*b[k]\n",
    "  # Fase de sustitucion hacia atras\n",
    "  for k in range(n-1,-1,-1):\n",
    "    b[k] = (b[k] - np.dot(a[k,k+1:n],b[k+1:n]))/a[k,k]\n",
    "  return b"
   ]
  },
  {
   "cell_type": "markdown",
   "id": "f346de2e",
   "metadata": {},
   "source": [
    "## Múltiples sistemas de ecuaciones\n",
    "\n",
    "Muchas veces necesitamos resolver el sistema $\\mathbf{A~x} = \\mathbf{b}$\n",
    "\tpara varios vectores constantes $\\mathbf{b}$. Supongamos que tenemos $m$ vectores constantes que denotamos como $\\mathbf{b}_1, \\mathbf{b}_2,\\ldots ,\\mathbf{b}_m$ y supongamos que los correspondientes vectores solución son $\\mathbf{x}_1, \\mathbf{x}_2,\\ldots ,\\mathbf{x}_m$. Entonces podemos múltiples sistemas de ecuaciones de la siguiente manera: $\\mathbf{A~X} = \\mathbf{B}$, donde $\\mathbf{X, B}$ son matrices de $n\\times m$\n",
    "\t$$\n",
    "\t\\mathbf{X} = \\left[\\mathbf{x}_1 ~~\\mathbf{x}_2~~\\ldots ~~\\mathbf{x}_m \\right],~~~~~\\mathbf{B} = \\left[\\mathbf{b}_1 ~~\\mathbf{b}_2~~\\ldots ~~\\mathbf{b}_m \\right].\n",
    "\t$$\n",
    "    \n",
    "Una manera de manejar estos conjuntos de ecuaciones es incluir los $m$ vectores constantes en la matríz aumentada y dejar que se afecten de igual manera en la fase de eliminación. Al final se puede obtener cada solución con sustitución **backwards**, un vector a la vez. Haremos esta implementación en el método LU mas adelante."
   ]
  },
  {
   "cell_type": "markdown",
   "id": "d69c87ac",
   "metadata": {},
   "source": [
    "## Ejemplo 1: Método de eliminación de Gauss\n",
    "\n",
    "Usa *gaussElimin* para calcular la solución de $\\mathbf{A~x} = \\mathbf{b}$, donde $\\mathbf{A}$ es una matríz Vandermode de $6 \\times 6$ generada a partir del vector \n",
    "\n",
    "$$\n",
    "\\mathbf{v} = \\left[1.0 ~~1.2~~1.4 ~~1.6~~1.8~~2.0 \\right]^{\\mathrm{\\small T}}\n",
    "$$\n",
    "\n",
    "y\n",
    "\n",
    "$$\n",
    "\\mathbf{b} = \\left[0 ~~1~~0 ~~1~~0~~1 \\right]^{\\mathrm{\\small T}}.\n",
    "$$\n",
    "\n",
    "Una matríz Vandermode $\\mathbf{A}$ de $n \\times n$ esta definida por un vector $\\mathbf{v}$ como\n",
    "\n",
    "$$\n",
    "A_{ij} = v_i^{n-j},~~~~~ i=1,2,\\ldots ,n~~~~~ j = 1,2,\\ldots ,n.\n",
    "$$\n",
    "\t\n",
    "También evalúa la precisión de la solución, ya que las matrices Vandermode suelen tener condición pobre ($\\det{\\mathbf{A}} \\ll |A_{ij}|$).\n",
    "\t\n",
    "\t"
   ]
  },
  {
   "cell_type": "code",
   "execution_count": 4,
   "id": "83f536ec",
   "metadata": {},
   "outputs": [
    {
     "name": "stdout",
     "output_type": "stream",
     "text": [
      "\n",
      " Matriz de coeficientes: A= \n",
      " [[ 1.       1.       1.       1.       1.       1.     ]\n",
      " [ 2.48832  2.0736   1.728    1.44     1.2      1.     ]\n",
      " [ 5.37824  3.8416   2.744    1.96     1.4      1.     ]\n",
      " [10.48576  6.5536   4.096    2.56     1.6      1.     ]\n",
      " [18.89568 10.4976   5.832    3.24     1.8      1.     ]\n",
      " [32.      16.       8.       4.       2.       1.     ]]\n",
      "\n",
      " Vector solucion: x =\n",
      " [   416.66666667  -3125.00000004   9250.00000012 -13500.00000017\n",
      "   9709.33333345  -2751.00000003]\n",
      "\n",
      " determinante = -1.1324620799859046e-06\n",
      "\n",
      "Verificacion del resultado: [a]{x} - b =\n",
      " [ 0.00000000e+00  0.00000000e+00  0.00000000e+00  0.00000000e+00\n",
      " -3.45607987e-11  1.81898940e-11]\n"
     ]
    }
   ],
   "source": [
    "### Funcion para matriz de coeficientes a partir de vector Vandermode\n",
    "def vandermode(v):\n",
    "  n = len(v)\n",
    "  a = np.zeros((n,n))\n",
    "  for j in range(n):\n",
    "    a[:,j] = v**(n-j-1)\n",
    "  return a\n",
    "\n",
    "### Vectores dados en ejemplo\n",
    "v = np.array([1.0, 1.2, 1.4, 1.6, 1.8, 2.0])\n",
    "b = np.array([0.0, 1.0, 0.0, 1.0, 0.0, 1.0])\n",
    "\n",
    "### Matriz de coeficientes\n",
    "a = vandermode(v)\n",
    "\n",
    "### Guarda una copia de la matriz y el vector original\n",
    "aOrig = a.copy() \n",
    "bOrig = b.copy() \n",
    "\n",
    "### Encuentra la solucion con eliminacion de Gauss\n",
    "x = gaussElimin(a,b)\n",
    "\n",
    "### Calcula el determinante de la matriz de coeficientes\n",
    "det = np.prod(np.diagonal(a))\n",
    "\n",
    "### Imprime la matriz de coeficientes\n",
    "print('\\n Matriz de coeficientes: A= \\n',aOrig)\n",
    "### Imprime el vector solucion\n",
    "print('\\n Vector solucion: x =\\n',x)\n",
    "### Imprime la determinante de la matriz de coeficientes\n",
    "print('\\n determinante =',det)\n",
    "### Imprime la verificacion del resultado\n",
    "print('\\nVerificacion del resultado: [a]{x} - b =\\n',np.dot(aOrig,x) - bOrig)"
   ]
  }
 ],
 "metadata": {
  "kernelspec": {
   "display_name": "Python 3 (ipykernel)",
   "language": "python",
   "name": "python3"
  },
  "language_info": {
   "codemirror_mode": {
    "name": "ipython",
    "version": 3
   },
   "file_extension": ".py",
   "mimetype": "text/x-python",
   "name": "python",
   "nbconvert_exporter": "python",
   "pygments_lexer": "ipython3",
   "version": "3.10.6"
  }
 },
 "nbformat": 4,
 "nbformat_minor": 5
}
