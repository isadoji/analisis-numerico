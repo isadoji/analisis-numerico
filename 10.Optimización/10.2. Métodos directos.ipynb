{
 "cells": [
  {
   "cell_type": "markdown",
   "metadata": {},
   "source": [
    "# Métodos directos"
   ]
  },
  {
   "cell_type": "markdown",
   "metadata": {},
   "source": [
    "## Sección dorada"
   ]
  },
  {
   "cell_type": "code",
   "execution_count": 2,
   "metadata": {},
   "outputs": [],
   "source": [
    "## module goldSearch\n",
    "'''\n",
    "a,b = bracket(f,xStart,h)\n",
    "Finds the brackets (a,b) of a minimum point of the\n",
    "user-supplied scalar function f(x).\n",
    "The search starts downhill from xStart with a step\n",
    "length h.\n",
    "x,fMin = search(f,a,b,tol=1.0e-6)\n",
    "Golden section method for determining x that minimizes\n",
    "the user-supplied scalar function f(x).\n",
    "The minimum must be bracketed in (a,b).\n",
    "'''\n",
    "import math\n",
    "def bracket(f,x1,h):\n",
    "    c = 1.618033989 \n",
    "    f1 = f(x1)\n",
    "    x2 = x1 + h; f2 = f(x2)\n",
    "  # Determine downhill direction and change sign of h if needed\n",
    "    if f2 > f1:\n",
    "        h = -h\n",
    "        x2 = x1 + h; f2 = f(x2)\n",
    "      # Check if minimum between x1 - h and x1 + h\n",
    "        if f2 > f1: return x2,x1 - h \n",
    "  # Search loop\n",
    "    for i in range (100):    \n",
    "        h = c*h\n",
    "        x3 = x2 + h; f3 = f(x3)\n",
    "        if f3 > f2: return x1,x3\n",
    "        x1 = x2; x2 = x3\n",
    "        f1 = f2; f2 = f3\n",
    "    print(\"Bracket did not find a mimimum\")\n",
    "\n",
    "def search(f,a,b,tol=1.0e-9):\n",
    "    nIter = int(math.ceil(-2.078087*math.log(tol/abs(b-a))))\n",
    "    R = 0.618033989\n",
    "    C = 1.0 - R\n",
    "  # First telescoping\n",
    "    x1 = R*a + C*b; x2 = C*a + R*b\n",
    "    f1 = f(x1); f2 = f(x2)\n",
    "  # Main loop\n",
    "    for i in range(nIter):\n",
    "        if f1 > f2:\n",
    "            a = x1\n",
    "            x1 = x2; f1 = f2\n",
    "            x2 = C*a + R*b; f2 = f(x2)\n",
    "        else:\n",
    "            b = x2\n",
    "            x2 = x1; f2 = f1\n",
    "            x1 = R*a + C*b; f1 = f(x1)\n",
    "    if f1 < f2: return x1,f1\n",
    "    else: return x2,f2"
   ]
  },
  {
   "cell_type": "markdown",
   "metadata": {},
   "source": [
    "## Método de Powell"
   ]
  },
  {
   "cell_type": "code",
   "execution_count": 3,
   "metadata": {},
   "outputs": [],
   "source": [
    "## module powell\n",
    "''' xMin,nCyc = powell(F,x,h=0.1,tol=1.0e-6)\n",
    "    Powell's method of minimizing user-supplied function F(x).\n",
    "    x    = starting point\n",
    "    h   = initial search increment used in 'bracket'\n",
    "    xMin = mimimum point\n",
    "    nCyc = number of cycles\n",
    "'''\n",
    "import numpy as np\n",
    "#from goldSearch import *\n",
    "import math\n",
    "\n",
    "def powell(F,x,h=0.1,tol=1.0e-6):\n",
    "    \n",
    "    def f(s): return F(x + s*v)    # F in direction of v\n",
    "\n",
    "    n = len(x)                     # Number of design variables\n",
    "    df = np.zeros(n)               # Decreases of F stored here\n",
    "    u = np.identity(n)             # Vectors v stored here by rows\n",
    "    for j in range(30):            # Allow for 30 cycles:\n",
    "        xOld = x.copy()            # Save starting point\n",
    "        fOld = F(xOld)\n",
    "      # First n line searches record decreases of F\n",
    "        for i in range(n):\n",
    "            v = u[i]\n",
    "            a,b = bracket(f,0.0,h)\n",
    "            s,fMin = search(f,a,b)\n",
    "            df[i] = fOld - fMin\n",
    "            fOld = fMin\n",
    "            x = x + s*v\n",
    "      # Last line search in the cycle    \n",
    "        v = x - xOld\n",
    "        a,b = bracket(f,0.0,h)\n",
    "        s,fLast = search(f,a,b)\n",
    "        x = x + s*v\n",
    "      # Check for convergence\n",
    "        if math.sqrt(np.dot(x-xOld,x-xOld)/n) < tol: return x,j+1\n",
    "      # Identify biggest decrease & update search directions\n",
    "        iMax = np.argmax(df)\n",
    "        for i in range(iMax,n-1):\n",
    "            u[i] = u[i+1]\n",
    "        u[n-1] = v\n",
    "    print(\"Powell did not converge\")    "
   ]
  },
  {
   "cell_type": "code",
   "execution_count": 4,
   "metadata": {},
   "outputs": [
    {
     "name": "stdout",
     "output_type": "stream",
     "text": [
      "x = [1. 1.]\n",
      "F(x) = 3.717507015854018e-29\n",
      "Number of cycles = 12\n"
     ]
    }
   ],
   "source": [
    "#EXAMPLE 10.3\n",
    "from numpy import array\n",
    "def F(x): return 100.0*(x[1] - x[0]**2)**2 + (1 - x[0])**2\n",
    "xStart = array([-1.0, 1.0])\n",
    "xMin,nIter = powell(F,xStart)\n",
    "print(\"x =\",xMin)\n",
    "print(\"F(x) =\",F(xMin))\n",
    "print(\"Number of cycles =\",nIter)\n",
    "#input (\"Press return to exit\")"
   ]
  },
  {
   "cell_type": "code",
   "execution_count": 5,
   "metadata": {},
   "outputs": [
    {
     "name": "stdout",
     "output_type": "stream",
     "text": [
      "Intersection point = [0.73306761 7.58776385]\n",
      "Minimum distance = 4.28679958766998\n",
      "xy = 5.562343874620907\n",
      "Number of cycles = 5\n"
     ]
    }
   ],
   "source": [
    "#EXAMPLE 10.4\n",
    "from numpy import array\n",
    "from math import sqrt\n",
    "\n",
    "def F(x):\n",
    "    lam = 1.0 # Penalty multiplier\n",
    "    c = x[0]*x[1] - 5.0 # Constraint equation\n",
    "    return distSq(x) + lam*c**2 # Penalized merit function\n",
    "\n",
    "def distSq(x): return (x[0] - 5)**2 + (x[1] - 8)**2\n",
    "xStart = array([ 1.0,5.0])\n",
    "x,numIter = powell(F,xStart,0.1)\n",
    "\n",
    "print(\"Intersection point =\",x)\n",
    "print(\"Minimum distance =\", sqrt(distSq(x)))\n",
    "print(\"xy =\", x[0]*x[1])\n",
    "print(\"Number of cycles =\",numIter)\n",
    "#input (\"Press return to exit\")"
   ]
  },
  {
   "cell_type": "markdown",
   "metadata": {},
   "source": [
    "## Método de Nelder-Mead"
   ]
  },
  {
   "cell_type": "code",
   "execution_count": 6,
   "metadata": {},
   "outputs": [],
   "source": [
    "## module downhill\n",
    "''' x = downhill(F,xStart,side=0.1,tol=1.0e-6)\n",
    "    Downhill simplex method for minimizing the user-supplied\n",
    "    scalar function F(x) with respect to the vector x.\n",
    "    xStart = starting vector x.\n",
    "    side   = side length of the starting simplex (default is 0.1)\n",
    "'''\n",
    "import numpy as np\n",
    "import math\n",
    "\n",
    "def downhill(F,xStart,side=0.1,tol=1.0e-6):\n",
    "    n = len(xStart)                 # Number of variables\n",
    "    x = np.zeros((n+1,n)) \n",
    "    f = np.zeros(n+1)\n",
    "    \n",
    "  # Generate starting simplex\n",
    "    x[0] = xStart\n",
    "    for i in range(1,n+1):\n",
    "        x[i] = xStart\n",
    "        x[i,i-1] = xStart[i-1] + side        \n",
    "  # Compute values of F at the vertices of the simplex     \n",
    "    for i in range(n+1): f[i] = F(x[i])\n",
    "    \n",
    "  # Main loop\n",
    "    for k in range(500):\n",
    "      # Find highest and lowest vertices\n",
    "        iLo = np.argmin(f)\n",
    "        iHi = np.argmax(f)       \n",
    "      # Compute the move vector d\n",
    "        d = (-(n+1)*x[iHi] + np.sum(x,axis=0))/n\n",
    "      # Check for convergence\n",
    "        if math.sqrt(np.dot(d,d)/n) < tol: return x[iLo]\n",
    "        \n",
    "      # Try reflection\n",
    "        xNew = x[iHi] + 2.0*d              \n",
    "        fNew = F(xNew)        \n",
    "        if fNew <= f[iLo]:        # Accept reflection \n",
    "            x[iHi] = xNew\n",
    "            f[iHi] = fNew\n",
    "          # Try expanding the reflection\n",
    "            xNew = x[iHi] + d               \n",
    "            fNew = F(xNew)\n",
    "            if fNew <= f[iLo]:    # Accept expansion\n",
    "                x[iHi] = xNew\n",
    "                f[iHi] = fNew\n",
    "        else:\n",
    "          # Try reflection again\n",
    "            if fNew <= f[iHi]:    # Accept reflection\n",
    "                x[iHi] = xNew\n",
    "                f[iHi] = fNew\n",
    "            else:\n",
    "              # Try contraction\n",
    "                xNew = x[iHi] + 0.5*d\n",
    "                fNew = F(xNew)\n",
    "                if fNew <= f[iHi]: # Accept contraction\n",
    "                    x[iHi] = xNew\n",
    "                    f[iHi] = fNew\n",
    "                else:\n",
    "                  # Use shrinkage\n",
    "                    for i in range(len(x)):\n",
    "                        if i != iLo:\n",
    "                            x[i] = (x[i] - x[iLo])*0.5\n",
    "                            f[i] = F(x[i])\n",
    "    print(\"Too many iterations in downhill\")\n",
    "    return x[iLo]"
   ]
  },
  {
   "cell_type": "code",
   "execution_count": 7,
   "metadata": {},
   "outputs": [
    {
     "name": "stdout",
     "output_type": "stream",
     "text": [
      "b =  2.4816069147962976\n",
      "h =  2.149137386944977\n",
      "theta (deg) =  30.000018579561125\n",
      "area =  7.999976717752945\n",
      "perimeter =  7.444828039523396\n"
     ]
    }
   ],
   "source": [
    "## example10_7\n",
    "import numpy as np\n",
    "import math\n",
    "def S(x):\n",
    "    global perimeter,area\n",
    "    lam = 10000.0\n",
    "    perimeter = x[0] + 2.0*x[1]/math.cos(x[2])\n",
    "    area = (x[0] + x[1]*math.tan(x[2]))*x[1]\n",
    "    return perimeter + lam*(area - 8.0)**2\n",
    "xStart = np.array([4.0, 2.0, 0.0])\n",
    "x = downhill(S,xStart)\n",
    "area = (x[0] + x[1]*math.tan(x[2]))*x[1]\n",
    "print(\"b = \",x[0])\n",
    "print(\"h = \",x[1])\n",
    "print(\"theta (deg) = \",x[2]*180.0/math.pi)\n",
    "print(\"area = \",area)\n",
    "print(\"perimeter = \",perimeter)"
   ]
  }
 ],
 "metadata": {
  "kernelspec": {
   "display_name": "py310",
   "language": "python",
   "name": "python3"
  },
  "language_info": {
   "codemirror_mode": {
    "name": "ipython",
    "version": 3
   },
   "file_extension": ".py",
   "mimetype": "text/x-python",
   "name": "python",
   "nbconvert_exporter": "python",
   "pygments_lexer": "ipython3",
   "version": "3.12.3"
  }
 },
 "nbformat": 4,
 "nbformat_minor": 2
}
