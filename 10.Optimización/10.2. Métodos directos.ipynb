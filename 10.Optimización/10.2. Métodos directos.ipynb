{
 "cells": [
  {
   "cell_type": "markdown",
   "metadata": {},
   "source": [
    "# Métodos directos"
   ]
  },
  {
   "cell_type": "markdown",
   "metadata": {},
   "source": [
    "## Sección dorada"
   ]
  },
  {
   "cell_type": "code",
   "execution_count": 3,
   "metadata": {},
   "outputs": [],
   "source": [
    "## module goldSearch\n",
    "'''\n",
    "a,b = bracket(f,xStart,h)\n",
    "Encuentra (a,b) de un punto mínimo de la\n",
    "función escalar proporcionada por el usuario f(x).\n",
    "La búsqueda comienza decendiendo desde xStar en pasos de h.\n",
    "\n",
    "Finds the brackets (a,b) of a minimum point of the\n",
    "user-supplied scalar function f(x).\n",
    "The search starts downhill from xStart with a step\n",
    "length h.\n",
    "x,fMin = search(f,a,b,tol=1.0e-6)\n",
    "Método de la sección dorada para determinar x que minimiza\n",
    "la función escalar proporcionada por el usuario f(x).\n",
    "El mínimo debe estar entre  (a,b).\n",
    "'''\n",
    "import math\n",
    "def bracket(f,x1,h):\n",
    "    c = 1.618033989 \n",
    "    f1 = f(x1)\n",
    "    x2 = x1 + h \n",
    "    f2 = f(x2)\n",
    "    if f2 > f1:  # Determine la dirección de decenso y cambie el signo de h si es necesario\n",
    "        h = -h\n",
    "        x2 = x1 + h; f2 = f(x2)\n",
    "        if f2 > f1: return x2,x1 - h # Checa si el minumo esta entre x1 - h y  x1 + h\n",
    "    for i in range (100):    #loop\n",
    "        h = c*h\n",
    "        x3 = x2 + h; f3 = f(x3)\n",
    "        if f3 > f2: \n",
    "            return x1,x3\n",
    "        x1 = x2; x2 = x3\n",
    "        f1 = f2; f2 = f3\n",
    "    print(\"no se encontro ningun minimo\")\n",
    "\n",
    "def search(f,a,b,tol=1.0e-9):\n",
    "    nIter = int(math.ceil(-2.078087*math.log(tol/abs(b-a))))\n",
    "    R = 0.618033989\n",
    "    C = 1.0 - R\n",
    "    x1 = R*a + C*b; x2 = C*a + R*b #primera extension\n",
    "    f1 = f(x1); f2 = f(x2)\n",
    "    for i in range(nIter): #loop principal\n",
    "        if f1 > f2:\n",
    "            a = x1\n",
    "            x1 = x2; f1 = f2\n",
    "            x2 = C*a + R*b; f2 = f(x2)\n",
    "        else:\n",
    "            b = x2\n",
    "            x2 = x1; f2 = f1\n",
    "            x1 = R*a + C*b; f1 = f(x1)\n",
    "    if f1 < f2: return x1,f1\n",
    "    else: return x2,f2"
   ]
  },
  {
   "cell_type": "markdown",
   "metadata": {},
   "source": [
    "## Método de Powell"
   ]
  },
  {
   "cell_type": "code",
   "execution_count": 6,
   "metadata": {},
   "outputs": [],
   "source": [
    "## module powell\n",
    "''' xMin,nCyc = powell(F,x,h=0.1,tol=1.0e-6)\n",
    "    Método de Powell para minimizar la función proporcionada por el usuario F(x).\n",
    "    x    = punto inicial\n",
    "    h   = inicio de la busqueda utilizado bracket\n",
    "    xMin = punto minimo\n",
    "    nCyc = numero de ciclos\n",
    "'''\n",
    "import numpy as np\n",
    "import math\n",
    "\n",
    "def powell(F,x,h=0.1,tol=1.0e-6):\n",
    "    \n",
    "    def f(s): return F(x + s*v)    # F en la dirección v\n",
    "\n",
    "    n = len(x)                     # Numero de variables \n",
    "    df = np.zeros(n)               # Almacenamiento del descenso de F\n",
    "    u = np.identity(n)             # Almacenamiento de cevtores v\n",
    "    for j in range(30):            # Numero de ciclos (30)\n",
    "        xOld = x.copy()            # Salvar punto de inicio\n",
    "        fOld = F(xOld)\n",
    "        for i in range(n): #loop de la busqueda de n lineas con la funcion decreciente\n",
    "            v = u[i]\n",
    "            a,b = bracket(f,0.0,h)\n",
    "            s,fMin = search(f,a,b)\n",
    "            df[i] = fOld - fMin\n",
    "            fOld = fMin\n",
    "            x = x + s*v\n",
    "        v = x - xOld #loop de la busqueda de la ultima linea\n",
    "        a,b = bracket(f,0.0,h)\n",
    "        s,fLast = search(f,a,b)\n",
    "        x = x + s*v\n",
    "        if math.sqrt(np.dot(x-xOld,x-xOld)/n) < tol: return x,j+1 #convergencia\n",
    "        iMax = np.argmax(df)  # localizando la direccion de crecimoento para actualizar la direccion de busqueda\n",
    "        for i in range(iMax,n-1):\n",
    "            u[i] = u[i+1]\n",
    "        u[n-1] = v\n",
    "    print(\"Powell no converge\")    "
   ]
  },
  {
   "cell_type": "code",
   "execution_count": 11,
   "metadata": {},
   "outputs": [
    {
     "name": "stdout",
     "output_type": "stream",
     "text": [
      "x = [1. 1.]\n",
      "F(x) = 3.717507015854018e-29\n",
      "Number of cycles = 12\n"
     ]
    }
   ],
   "source": [
    "#EXAMPLE 10.3\n",
    "from numpy import array\n",
    "def F(x): return 100.0*(x[1] - x[0]**2)**2 + (1 - x[0])**2\n",
    "xStart = array([-1.0, 1.0])\n",
    "xMin,nIter = powell(F,xStart)\n",
    "print(\"x =\",xMin)\n",
    "print(\"F(x) =\",F(xMin))\n",
    "print(\"Number of cycles =\",nIter)"
   ]
  },
  {
   "cell_type": "code",
   "execution_count": 12,
   "metadata": {},
   "outputs": [
    {
     "name": "stdout",
     "output_type": "stream",
     "text": [
      "Intersection point = [0.73306761 7.58776385]\n",
      "Minimum distance = 4.28679958766998\n",
      "xy = 5.562343874620907\n",
      "Number of cycles = 5\n"
     ]
    }
   ],
   "source": [
    "#EXAMPLE 10.4\n",
    "from numpy import array\n",
    "from math import sqrt\n",
    "\n",
    "def F(x):\n",
    "    lam = 1.0 # Penalización\n",
    "    c = x[0]*x[1] - 5.0 # Restricción\n",
    "    return distSq(x) + lam*c**2 # función de penalizacion\n",
    "\n",
    "def distSq(x): return (x[0] - 5)**2 + (x[1] - 8)**2\n",
    "xStart = array([ 1.0,5.0])\n",
    "x,numIter = powell(F,xStart,0.1)\n",
    "\n",
    "print(\"Intersection point =\",x)\n",
    "print(\"Minimum distance =\", sqrt(distSq(x)))\n",
    "print(\"xy =\", x[0]*x[1])\n",
    "print(\"Number of cycles =\",numIter)"
   ]
  },
  {
   "cell_type": "markdown",
   "metadata": {},
   "source": [
    "## Método de Nelder-Mead (Downhill)"
   ]
  },
  {
   "cell_type": "code",
   "execution_count": 14,
   "metadata": {},
   "outputs": [],
   "source": [
    "## module downhill\n",
    "''' x = downhill(F,xStart,side=0.1,tol=1.0e-6)\n",
    "    Método simple para minimizar el descenso de la función F \n",
    "    proporcionada por el usuario, con respecto al vector x.\n",
    "    xStart = vector x inicial.\n",
    "    side   = longitud inicial (default= 0.1)\n",
    "'''\n",
    "import numpy as np\n",
    "import math\n",
    "\n",
    "def downhill(F,xStart,side=0.1,tol=1.0e-6):\n",
    "    n = len(xStart)                 # Variables\n",
    "    x = np.zeros((n+1,n)) \n",
    "    f = np.zeros(n+1)\n",
    "  \n",
    "    x[0] = xStart \n",
    "    for i in range(1,n+1):\n",
    "        x[i] = xStart\n",
    "        x[i,i-1] = xStart[i-1] + side        \n",
    "    for i in range(n+1): f[i] = F(x[i]) #valor de F en los vertices\n",
    "    \n",
    "    for k in range(500): #loop\n",
    "        iLo = np.argmin(f) #vertices mayore y menor\n",
    "        iHi = np.argmax(f)       \n",
    "        d = (-(n+1)*x[iHi] + np.sum(x,axis=0))/n #calcula el vector d\n",
    "        if math.sqrt(np.dot(d,d)/n) < tol: return x[iLo] #convergencia\n",
    "        \n",
    "      # Reflection\n",
    "        xNew = x[iHi] + 2.0*d              \n",
    "        fNew = F(xNew)        \n",
    "        if fNew <= f[iLo]:        # acepta refleccion\n",
    "            x[iHi] = xNew\n",
    "            f[iHi] = fNew\n",
    "          # Expansion\n",
    "            xNew = x[iHi] + d               \n",
    "            fNew = F(xNew)\n",
    "            if fNew <= f[iLo]:    # acepta expacion\n",
    "                x[iHi] = xNew\n",
    "                f[iHi] = fNew\n",
    "        else:\n",
    "          # Refleccion\n",
    "            if fNew <= f[iHi]:    # acepta refleccion\n",
    "                x[iHi] = xNew\n",
    "                f[iHi] = fNew\n",
    "            else:\n",
    "              # Contraccion\n",
    "                xNew = x[iHi] + 0.5*d\n",
    "                fNew = F(xNew)\n",
    "                if fNew <= f[iHi]: # acepta contraccion\n",
    "                    x[iHi] = xNew\n",
    "                    f[iHi] = fNew\n",
    "                else:\n",
    "                  for i in range(len(x)):  # usa la contraccion\n",
    "                        if i != iLo:\n",
    "                            x[i] = (x[i] - x[iLo])*0.5\n",
    "                            f[i] = F(x[i])\n",
    "    print(\"Demasiadas interaciones en downhill\")\n",
    "    return x[iLo]"
   ]
  },
  {
   "cell_type": "code",
   "execution_count": 16,
   "metadata": {},
   "outputs": [
    {
     "name": "stdout",
     "output_type": "stream",
     "text": [
      "b =  2.4816069147962976\n",
      "h =  2.149137386944977\n",
      "theta (deg) =  30.000018579561125\n",
      "area =  7.999976717752945\n",
      "perimetro =  7.444828039523396\n"
     ]
    }
   ],
   "source": [
    "## example10_7\n",
    "import numpy as np\n",
    "import math\n",
    "def S(x):\n",
    "    global perimeter,area\n",
    "    lam = 10000.0\n",
    "    perimeter = x[0] + 2.0*x[1]/math.cos(x[2])\n",
    "    area = (x[0] + x[1]*math.tan(x[2]))*x[1]\n",
    "    return perimeter + lam*(area - 8.0)**2\n",
    "xStart = np.array([4.0, 2.0, 0.0])\n",
    "x = downhill(S,xStart)\n",
    "area = (x[0] + x[1]*math.tan(x[2]))*x[1]\n",
    "print(\"b = \",x[0])\n",
    "print(\"h = \",x[1])\n",
    "print(\"theta (deg) = \",x[2]*180.0/math.pi)\n",
    "print(\"area = \",area)\n",
    "print(\"perimetro = \",perimeter)"
   ]
  }
 ],
 "metadata": {
  "kernelspec": {
   "display_name": "py310",
   "language": "python",
   "name": "python3"
  },
  "language_info": {
   "codemirror_mode": {
    "name": "ipython",
    "version": 3
   },
   "file_extension": ".py",
   "mimetype": "text/x-python",
   "name": "python",
   "nbconvert_exporter": "python",
   "pygments_lexer": "ipython3",
   "version": "3.12.3"
  }
 },
 "nbformat": 4,
 "nbformat_minor": 2
}
