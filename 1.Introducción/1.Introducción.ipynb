{
 "cells": [
  {
   "cell_type": "markdown",
   "id": "acd7f6c1",
   "metadata": {},
   "source": [
    "# PYTHON\n",
    "\n",
    "Lenguaje de programación no compilado. Se usa:\n",
    "\n",
    "- Cuando es importante poder hacer cosas de manera interactiva\n",
    "- Cuando no importa la velocidad del código\n",
    "\n",
    "- Mucho mas sencillo que lenguajes tradicionales. \n",
    "- Es un lenguaje de muy alto nivel, muy poderoso\n",
    "- Filosofı́a ”baterı́as incluidas”: viene con muchas librerı́as para facilitar tareas de diversos\n",
    "tipos\n",
    "\n",
    "1. Información: http://www.python.org\n",
    "2. Tutorial básico: http://docs.python.org/tut/\n",
    "\n",
    "Interprete se llama python3 (versión mas avanzada) o ipython3 (i = interactivo)"
   ]
  },
  {
   "cell_type": "markdown",
   "id": "406f17a9",
   "metadata": {},
   "source": [
    "## Instalación de python\n",
    "\n",
    "$ sudo apt-get install python3 python3-pip\n",
    "\n",
    "$ python3 -m pip install numpy scipy matplotlib jupyter timetable pandas\n"
   ]
  },
  {
   "cell_type": "markdown",
   "id": "ca08da0a",
   "metadata": {},
   "source": [
    "## Jupyter\n",
    "\n",
    "__Jupyter__ es un interprete de __python__ (entre otros lenguajes de programación) que ofrece una shell interactiva vía web, a la que podemos acceder desde un navegador\n",
    "\n",
    "$ jupyter notebook\n",
    "\n",
    "o pueden utilizar __Jupyter__ sin instalar nada en [Binder](http://jupyter.org/try) o en [Colaboratory](https://colab.research.google.com/)"
   ]
  },
  {
   "cell_type": "markdown",
   "id": "3cd085cf",
   "metadata": {},
   "source": [
    "# Evaluar una expresión matemática "
   ]
  },
  {
   "cell_type": "markdown",
   "id": "2f771847",
   "metadata": {},
   "source": [
    "Consideren la expresión de la altura de una pelota que es lanzada en dirección vertical\n",
    "$$\n",
    "y(t) = y_0 + v_0~t - \\frac{1}{2} ~g~t^2\n",
    "$$\n",
    "donde\n",
    "* $y$ es la altura (posición) como función del tiempo\n",
    "* $y_0$ es la posición inicial en $t=0$\n",
    "* $v_0$ es la velocidad inicial en $t=0$\n",
    "* $g$ es la aceleración de la gravedad\n",
    "\n",
    "**Determina la posición $y$, dado que conoces $y_0 = 0$, $v_0 = 5$ m/s, $g=9.81$ m/s$^2$ y $t=0.6$ s.**"
   ]
  },
  {
   "cell_type": "code",
   "execution_count": null,
   "id": "c3fa7d1e",
   "metadata": {},
   "outputs": [],
   "source": [
    "print (0 + 5*0.6 - 1/2*9.81*0.6**2)"
   ]
  },
  {
   "cell_type": "markdown",
   "id": "739a5240",
   "metadata": {},
   "source": [
    "* En esta expresión se usan los cuatro operadores estándares de aritmética $+, -, * , /$\n",
    "* Además la potencia es con doble asterisco: $(0.6)^2$ es 0.6**2\n",
    "* **Python** procede de izquierda a derecha, término a término (con términos separados por $+$ o $-$). En cada término las operaciones de potencia, tienen precedencia sobre la multiplicación y la división\n",
    "* Puedes usar paréntesis para controlar la manera en la que se evalua una expresión."
   ]
  },
  {
   "cell_type": "markdown",
   "id": "a24bc896",
   "metadata": {},
   "source": [
    "# Usando variables"
   ]
  },
  {
   "cell_type": "markdown",
   "id": "3672a728",
   "metadata": {},
   "source": [
    "**Ahora evalúa la posición $y$ para diferentes $t$ usando variables.**"
   ]
  },
  {
   "cell_type": "code",
   "execution_count": null,
   "id": "cf0f9ae8",
   "metadata": {
    "scrolled": true
   },
   "outputs": [],
   "source": [
    "v0 = 5\n",
    "g = 9.81\n",
    "t = 0.6\n",
    "y = v0*t - 0.5*g*t**2\n",
    "print (y)"
   ]
  },
  {
   "cell_type": "markdown",
   "id": "30e5767f",
   "metadata": {},
   "source": [
    "* Las variables en **Python** se definen \n",
    "\n",
    "**nombre = valor o expresión con variables que ya se definieron**\n",
    "\n",
    "* Usa nombres de variables similares a las de expresiones matemáticas. Los nombres de variables pueden tener minúsculas y mayúsculas (**Python** las distingue!), números 0 al 9 y guión bajo, pero el primer caracter no puede ser número\n",
    "\n",
    "*  Esta versión es más práctica, porque puedes cambiar el valor de $t$ en un solo lugar al evaluar"
   ]
  },
  {
   "cell_type": "markdown",
   "id": "a8db6ad2",
   "metadata": {},
   "source": [
    "Nombres de variable reservados: *and , as , assert , break , class , continue , def , del , elif , else , except , False ,\n",
    "finally , for , from , global , if , import , in , is , lambda , None , nonlocal ,\n",
    "not , or , pass , raise , return , True , try , with , while , yield*\n",
    "\n",
    "Si quieres usar un nombre reservado, puedes agregar un guión bajo al final, por ejemplo *lambda_*\n",
    "\n",
    "La función *dir()* en python es una función que devuelve una lista de los atributos y métodos de cualquier objeto(funciones, módulos, cadenas, listas, diccionarios, etc.)"
   ]
  },
  {
   "cell_type": "code",
   "execution_count": null,
   "id": "87ea21c6",
   "metadata": {},
   "outputs": [],
   "source": [
    "import math\n",
    "dir(math)"
   ]
  },
  {
   "cell_type": "code",
   "execution_count": null,
   "id": "ca1bdf09",
   "metadata": {},
   "outputs": [],
   "source": [
    "# Programa para calcular la altura de una pelota en movimiento vertical\n",
    "v0 = 5 #velocidad inicial\n",
    "g = 9.81 #aceleracion de la gravedad\n",
    "t = 0.6 #tiempo \n",
    "y = v0*t - 0.5*g*t**2 #expresion de la cinematica\n",
    "print (y)"
   ]
  },
  {
   "cell_type": "markdown",
   "id": "04f45d99",
   "metadata": {},
   "source": [
    "# Documenta tu código"
   ]
  },
  {
   "cell_type": "markdown",
   "id": "c72b7a52",
   "metadata": {},
   "source": [
    "La documentación de tu código será crucial para que puedas colaborar y extender las capacidades al integrar/merger varios códigos. En este ejemplo la documentación es sencilla, pero siempre tienes que documentar lo mejor posible!"
   ]
  },
  {
   "cell_type": "code",
   "execution_count": null,
   "id": "6613ff8c",
   "metadata": {},
   "outputs": [],
   "source": [
    "# Programa para calcular la altura de una pelota en movimiento vertical\n",
    "v0 = 5 #velocidad inicial\n",
    "g = 9.81 #aceleracion de la gravedad\n",
    "t = 0.6 #tiempo \n",
    "y = v0*t - 0.5*g*t**2 #expresion de la cinematica"
   ]
  },
  {
   "cell_type": "markdown",
   "id": "e6618f49",
   "metadata": {},
   "source": [
    "# Formato de texto y números "
   ]
  },
  {
   "cell_type": "markdown",
   "id": "b93b4270",
   "metadata": {},
   "source": [
    "Ahora imprime el valor de $y$ de manera que el programa nos reporte: **En $t=0.6$ s, la altura de la pelota es $1.23$ m.** También queremos tener control de la precisión del resultado. Por ejemplo en este problema tenemos precisión de cm. En **Python** se usa la estructura de sintaxis de https://en.wikipedia.org/wiki/Printf_format_string, heredada de programación en C."
   ]
  },
  {
   "cell_type": "code",
   "execution_count": null,
   "id": "abdcd3a5",
   "metadata": {},
   "outputs": [],
   "source": [
    "# una manera de imprimir el resultado es\n",
    "print('En t=%g s, la altura de la pelota es %.2f m.' % (t, y))\n",
    "# otra manera de reportar el resultado es\n",
    "print(\"En t={0} s, la altura de la pelota es {1} m.\" .format(t, y))\n",
    "#una ultima\n",
    "print(f'En t={t} s, la altura de la pelota es {y} m.')"
   ]
  },
  {
   "cell_type": "markdown",
   "id": "051a577b",
   "metadata": {},
   "source": [
    "# Ejercicio 1\n",
    "\n",
    "En tu portafolio de clase, elabora un programa que calcule la temperatura en grados Celsius a partir de temperaturas conocidas (dadas) en grados Farenheit."
   ]
  },
  {
   "cell_type": "markdown",
   "id": "ef72a8e4",
   "metadata": {},
   "source": [
    "# Funciones matemáticas básicas"
   ]
  },
  {
   "cell_type": "markdown",
   "id": "d3a7fc37",
   "metadata": {},
   "source": [
    "Determina el tiempo $t$, que le toma a la pelota, alcanzar una altura dada $y_c$ dado que conoces $y_0 = 0$, $v_0 = 5$ m/s y $g=9.81$ m/s$^2$.} Sabemos que\n",
    "$$\n",
    "y(t) = v_0~t - \\frac{1}{2} ~g~t^2.\n",
    "$$\n",
    "Entonces si $y(t)$ ahora es conocida y dada por $y_c$, queremos resolver\n",
    "$$\n",
    "\\frac{1}{2} ~g~t^2 - v_0~t + y_c =0,\n",
    "$$\n",
    "cuyas soluciones son\n",
    "$$\n",
    "t_1 = \\frac{v_0 - \\sqrt{v_0^2 - 2~g~y_c}}{g} ~~~~~~~~~ t_2 = \\frac{v_0 + \\sqrt{v_0^2 - 2~g~y_c}}{g}\n",
    "$$\n",
    "Las soluciones son el tiempo $t=t_1$ cuando la pelota va hacia arriba, y el tiempo $t=t_2 > t_1$, cuando la pelota va hacia abajo.\n",
    "\n",
    "En **Python** las funciones matemáticas básicas, tales como la raíz cuadrada, las funciones trigonométricas, los logaritmos, etc., estan definidas en el módulo https://docs.python.org/3/library/math.html. Para usarlas, necesitas cargar el módulo y para llamarlas usas la sintaxis: **math.nombre()**"
   ]
  },
  {
   "cell_type": "code",
   "execution_count": null,
   "id": "3093ea0b",
   "metadata": {
    "scrolled": true
   },
   "outputs": [],
   "source": [
    "v0 = 5\n",
    "g = 9.81\n",
    "yc = 0.2\n",
    "import math\n",
    "t1 = (v0 - math.sqrt(v0**2 - 2*g*yc))/g\n",
    "t2 = (v0 + math.sqrt(v0**2 - 2*g*yc))/g\n",
    "print ('En t=%g s y %g s, la altura de la pelota es %g m.' % (t1,t2,yc))"
   ]
  },
  {
   "cell_type": "markdown",
   "id": "33acbc12",
   "metadata": {},
   "source": [
    "Para no arrastrar el modulo cada vez que necesitas una función, puedes cargar la función desde el principio asi: \n",
    "\n",
    "**from math import sqrt**\n",
    "\n",
    "o puedes cargar todas las funciones del módulo asi: \n",
    "\n",
    "**from math import $*$**\n",
    "\n"
   ]
  },
  {
   "cell_type": "markdown",
   "id": "50b8e581",
   "metadata": {},
   "source": [
    "# Ejercicio 2\n",
    "\n",
    "\n",
    "Considera la definición del $\\sinh(x)$\n",
    "$$\n",
    "\\sinh(x) = \\frac{e^x - e^{-x}}{2}.\n",
    "$$\n",
    "\n",
    "En tu portafolio de clase, elabora un programa que calcule el valor de $\\sinh(x)$ en $x=2\\pi$ de tres diferentes maneras:\n",
    "1. evaluando $\\sinh(x)$ directamente\n",
    "2. evaluando con la definición del lado derecho, usando la función exponencial\n",
    "3. evaluando con la definición del lado derecho, usando la potencia"
   ]
  },
  {
   "cell_type": "markdown",
   "id": "eaa6aabd",
   "metadata": {},
   "source": [
    "# Error de redondeo"
   ]
  },
  {
   "cell_type": "markdown",
   "id": "b7423411",
   "metadata": {},
   "source": [
    "En el ejercicio anterior, imprime los resultados con 16 decimales"
   ]
  },
  {
   "cell_type": "code",
   "execution_count": null,
   "id": "1bbcebf0",
   "metadata": {
    "scrolled": true
   },
   "outputs": [],
   "source": [
    "print ('%.16f %.16f' % (1/49.0*49, 1/51.0*51))"
   ]
  },
  {
   "cell_type": "markdown",
   "id": "0bd3e2d4",
   "metadata": {},
   "source": [
    "Puedes ver que dos resultados coinciden pero el tercero no. Porque?\n",
    "\n",
    "Los cálculos se hacen con números reales, que en principio requieren un número infinito de decimales para representarlos. Entonces, en los cálculos se truncan los decimales y se genera un error por redondeo. Típicamente se usan 17 dígitos para un número real. Por ejemplo, calcula $1/49*49$ y por otro lado, calcula $1/51*51$. Ambos deberían ser 1, pero en un caso el error se propaga al resultado y en el otro no. "
   ]
  },
  {
   "cell_type": "markdown",
   "id": "7b699429",
   "metadata": {},
   "source": [
    "# Números complejos"
   ]
  },
  {
   "cell_type": "markdown",
   "id": "1530d6c2",
   "metadata": {},
   "source": [
    "En **Python** la unidad de los imaginarios es **1j**, en lugar de la **i** que se utiliza en las matemáticas. Puedes definir un complejo con la notación **a + b*1j** o con la notación **complex(a,b)**."
   ]
  },
  {
   "cell_type": "code",
   "execution_count": null,
   "id": "abb23068",
   "metadata": {},
   "outputs": [],
   "source": [
    "u = 5.3 + 2.1j #define un número complejo\n",
    "v = 3 #define un entero\n",
    "w = u + v #sumalos\n",
    "w #checa el resultado"
   ]
  },
  {
   "cell_type": "code",
   "execution_count": null,
   "id": "ed361976",
   "metadata": {},
   "outputs": [],
   "source": [
    "a = -1\n",
    "b = 0.8\n",
    "s = a + b*1j #define otro complejo\n",
    "s "
   ]
  },
  {
   "cell_type": "code",
   "execution_count": null,
   "id": "ae6eb3dd",
   "metadata": {},
   "outputs": [],
   "source": [
    "a = -1\n",
    "b = 0.8\n",
    "s = complex(a, b) #define otro complejo\n",
    "s"
   ]
  },
  {
   "cell_type": "code",
   "execution_count": null,
   "id": "16e29e96",
   "metadata": {},
   "outputs": [],
   "source": [
    "u = 5.3 + 2.1j\n",
    "v = 3\n",
    "w = u + v\n",
    "a = -1\n",
    "b = 0.8\n",
    "s = a + b*1j #define otro complejo\n",
    "s*w #multiploca complejo*complejo"
   ]
  },
  {
   "cell_type": "code",
   "execution_count": null,
   "id": "2ddf5cb9",
   "metadata": {},
   "outputs": [],
   "source": [
    "u = 5.3 + 2.1j\n",
    "v = 3\n",
    "w = u + v\n",
    "a = -1\n",
    "b = 0.8\n",
    "s = a + b*1j\n",
    "s/w #divide complejo/complejo"
   ]
  },
  {
   "cell_type": "markdown",
   "id": "7bee6115",
   "metadata": {},
   "source": [
    "Un objeto llamado **w** del tipo **complex**, tiene la funcionalidad de poder extraer la parte real o imaginaria y de poder calcular el complejo conjugado."
   ]
  },
  {
   "cell_type": "code",
   "execution_count": null,
   "id": "f9d80f9f",
   "metadata": {},
   "outputs": [],
   "source": [
    "a = 4\n",
    "b = -2.3\n",
    "w = a + b*1j\n",
    "w.real"
   ]
  },
  {
   "cell_type": "code",
   "execution_count": null,
   "id": "86113e79",
   "metadata": {},
   "outputs": [],
   "source": [
    "a = 4\n",
    "b = -2.3\n",
    "w = a + b*1j\n",
    "w.imag"
   ]
  },
  {
   "cell_type": "code",
   "execution_count": null,
   "id": "d8c9c802",
   "metadata": {},
   "outputs": [],
   "source": [
    "a = 4\n",
    "b = -2.3\n",
    "w = a + b*1j\n",
    "w.conjugate()"
   ]
  },
  {
   "cell_type": "markdown",
   "id": "34a411f6",
   "metadata": {},
   "source": [
    "# Funciones de variables complejas"
   ]
  },
  {
   "cell_type": "markdown",
   "id": "47846608",
   "metadata": {},
   "source": [
    "Para evaluar funciones básicas de matemáticas con valores complejos, no debes usar el módulo **math**, porque ese módulo asume que la evaluación es con números reales (flotante). Para evaluar funciones matemáticas básicas en variable compleja, usa el módulo https://docs.python.org/3/library/cmath.html"
   ]
  },
  {
   "cell_type": "code",
   "execution_count": null,
   "id": "71c11f45",
   "metadata": {},
   "outputs": [],
   "source": [
    "from cmath import sin, sinh\n",
    "r1 = sin(8j)\n",
    "r1"
   ]
  },
  {
   "cell_type": "code",
   "execution_count": null,
   "id": "dfabe4fe",
   "metadata": {},
   "outputs": [],
   "source": [
    "from cmath import sin, sinh\n",
    "r2 = 1j*sinh(8)\n",
    "r2"
   ]
  },
  {
   "cell_type": "markdown",
   "id": "a0d787c1",
   "metadata": {},
   "source": [
    "# Ejercico 3\n",
    "\n",
    "1. Considera la relación entre el seno en variable compleja y el seno hiperbólico en variable real $x$,\n",
    "$$\n",
    "\\sin(ix) = i\\sinh(x).\n",
    "$$\n",
    "\n",
    "   En tu portafolio de clase, elabora un programa que calcule el valor de $\\sin(ix)$ y de $\\sinh(x)$ para ciertos valores dados de $x$, para verificar la identidad.\n",
    "\n",
    "2. Considera la relación de Euler para $x$ real,\n",
    "$$\n",
    "e^{ix} = \\cos(x) + i\\sin(x).\n",
    "$$\n",
    "\n",
    "En tu portafolio de clase, elabora un programa que calcule el valor de $\\cos(x), \\sin(x)$ y de $e^{ix}$ para ciertos valores dados de $x$, para verificar la identidad"
   ]
  },
  {
   "cell_type": "markdown",
   "id": "7719434f",
   "metadata": {},
   "source": [
    "# Funciones en el plano complejo"
   ]
  },
  {
   "cell_type": "markdown",
   "id": "ac8568fb",
   "metadata": {},
   "source": [
    "En lugar de cargar ciertas funciones con **math** y **cmath**, puedes cargar el módulo **Numpy** de la librería **Scimath**, o de plano cargar la librería completa **Scitools**. Cualquiera de las siguientes declaraciones funciona\n",
    "* from numpy.lib.scimath import *\n",
    "* from scipy import *\n",
    "* from scitools.std import *\n",
    "\n",
    "para carga funciones que pueden ser evaluadas en el plano complejo (que incluye los reales), las funciones corren un poco más lento que las de **math, cmath**, pero ya no te preocupas del dominio de evaluación."
   ]
  },
  {
   "cell_type": "code",
   "execution_count": null,
   "id": "60049578",
   "metadata": {},
   "outputs": [],
   "source": [
    "from numpy.lib.scimath import *\n",
    "sqrt(4)"
   ]
  },
  {
   "cell_type": "code",
   "execution_count": null,
   "id": "f83b8e43",
   "metadata": {},
   "outputs": [],
   "source": [
    "from numpy.lib.scimath import *\n",
    "sqrt(-4)"
   ]
  },
  {
   "cell_type": "markdown",
   "id": "2cc5f4e7",
   "metadata": {},
   "source": [
    "# Ejercicio 4\n",
    "\n",
    "Este tratamiento flexible de funciones en el plano complejo permite encontrar las raices reales o complejas, de una función cuadrática. Considera que las raices de $f(z)=az^2+bz+c$ se obtienen\n",
    "$$\n",
    "z^{\\pm} = \\frac{-b \\pm \\sqrt{b^2-4ac}}{2a}.\n",
    "$$\n",
    "\n",
    "En tu portafolio de clase, elabora un programa en el que uses **Numpy** para calcular el valor de las raices con diferentes valores dados de $a,b,c$, para obtener ejemplos de raices reales y complejas."
   ]
  },
  {
   "cell_type": "markdown",
   "id": "679f5727",
   "metadata": {},
   "source": [
    "# Derivadas e integrales simbólicas"
   ]
  },
  {
   "cell_type": "markdown",
   "id": "078589cf",
   "metadata": {},
   "source": [
    "Podemos ver como funciona la diferenciación e integración simbólica, usando la expresión $v_0 t - 1/2 g t^2$ \n",
    "\n"
   ]
  },
  {
   "cell_type": "code",
   "execution_count": null,
   "id": "edf63846",
   "metadata": {},
   "outputs": [],
   "source": [
    "from sympy import (\n",
    "symbols, # define simbolos para matematicas simbolicas\n",
    "diff,    # diferenciacion simbolica de expresiones\n",
    "integrate, # integracion simbolica de expresiones\n",
    "Rational, # define numeros racionales\n",
    "lambdify, # convierte expresiones simbolicas en funciones de Python\n",
    ")\n",
    "t, v0, g = symbols('t v0 g')\n",
    "y = v0*t - Rational(1,2)*g*t**2\n",
    "print ('Primera derivada:', diff(y,t))\n",
    "print ('Segunda derivada:', diff(y, t, t))\n",
    "deriv=diff(y,t)\n"
   ]
  },
  {
   "cell_type": "markdown",
   "id": "38adf1fb",
   "metadata": {},
   "source": [
    "**NOTA**: Definimos a **t, v0, g** como símbolos, no como flotantes. Por lo tanto, todas las definiciones **y, deriv** son tambien expresiones simbólicas (no numéricas).\n",
    "\n",
    "Podemos regresar a la expresión $v_0 t - 1/2 g t^2$ numérica, usando **lambdify**"
   ]
  },
  {
   "cell_type": "code",
   "execution_count": null,
   "id": "2059f186",
   "metadata": {},
   "outputs": [],
   "source": [
    "print ('Regresamos a la original', integrate(deriv,t))\n",
    "v = lambdify([t, v0, g], # argumentos en v\n",
    "deriv)  # expresion simbolica que estamos convirtiendo en numerica\n",
    "print ('evaluacion', v(2, 5, 9.81))"
   ]
  },
  {
   "cell_type": "markdown",
   "id": "914d539f",
   "metadata": {},
   "source": [
    "# Resolución de ecuaciones"
   ]
  },
  {
   "cell_type": "markdown",
   "id": "8474d3f3",
   "metadata": {},
   "source": [
    "Una ecuación lineal, definida a partir de una expresión **e** que es cero, puede ser resuelta con **solve(e,t)**, donde **t** es la incógnita (definida como símbolo) en la ecuación. Por ejemplo, podemos encontrar las raices de **y = 0**"
   ]
  },
  {
   "cell_type": "code",
   "execution_count": null,
   "id": "c1693709",
   "metadata": {},
   "outputs": [],
   "source": [
    "from sympy import (\n",
    "symbols, # define simbolos para matematicas simbolicas\n",
    "Rational, # define numeros racionales \n",
    "solve # resuelve ecuaciones\n",
    ")\n",
    "t, v0, g = symbols('t v0 g') \n",
    "y = v0*t - Rational(1,2)*g*t**2\n",
    "roots = solve(y, t) \n",
    "print ('Las raices son', roots) \n",
    "print ('La primera raiz es', roots[0])\n",
    "print ('La primera raiz es', roots[1])\n"
   ]
  },
  {
   "cell_type": "markdown",
   "id": "85cd3c1c",
   "metadata": {},
   "source": [
    "Y puedes checar las respuestas insertando las raices en **y = 0**"
   ]
  },
  {
   "cell_type": "code",
   "execution_count": null,
   "id": "a40124a4",
   "metadata": {},
   "outputs": [],
   "source": [
    "print ('Check de primera raiz',y.subs(t,roots[0]))\n",
    "print ('Check de primera raiz',y.subs(t,roots[1]))"
   ]
  },
  {
   "cell_type": "markdown",
   "id": "28f79ada",
   "metadata": {},
   "source": [
    "# Serie de Taylor"
   ]
  },
  {
   "cell_type": "markdown",
   "id": "3ce854f7",
   "metadata": {},
   "source": [
    "La representación de la expresión *expr* en Serie de Taylor de orden **n**, en la variable **t** alrededor de **t0**, se calcula como **expr.series(t, t0, n)**. Por ejemplo, podemos encontrar la representación en Serie de Taylor de $e^t$"
   ]
  },
  {
   "cell_type": "code",
   "execution_count": null,
   "id": "433ba7f5",
   "metadata": {},
   "outputs": [],
   "source": [
    "from sympy import symbols, exp, sin, cos\n",
    "t = symbols('t')\n",
    "f = exp(t)\n",
    "f.series(t, 0, 3)\n"
   ]
  },
  {
   "cell_type": "code",
   "execution_count": null,
   "id": "561d913a",
   "metadata": {},
   "outputs": [],
   "source": [
    "from sympy import symbols, exp, sin, cos\n",
    "t = symbols('t')\n",
    "f = exp(sin(t))\n",
    "f.series(t, 0, 8)"
   ]
  },
  {
   "cell_type": "markdown",
   "id": "dc0a0db3",
   "metadata": {},
   "source": [
    "Puedes manipular las expresiones con **expand** y **simplify**"
   ]
  },
  {
   "cell_type": "code",
   "execution_count": null,
   "id": "8d796024",
   "metadata": {},
   "outputs": [],
   "source": [
    "from sympy import simplify, expand\n",
    "x, y = symbols('x y')\n",
    "f = -sin(x)*sin(y) + cos(x)*cos(y)\n",
    "simplify(f)"
   ]
  },
  {
   "cell_type": "code",
   "execution_count": null,
   "id": "e6ac5334",
   "metadata": {},
   "outputs": [],
   "source": [
    "from sympy import simplify, expand\n",
    "x, y = symbols('x y')\n",
    "expand(sin(x+y), trig=True) # con un hint"
   ]
  },
  {
   "cell_type": "markdown",
   "id": "7e46dbfa",
   "metadata": {},
   "source": [
    "Puedes exportar las respuestas en formato **LaTex**"
   ]
  },
  {
   "cell_type": "code",
   "execution_count": null,
   "id": "0df070c5",
   "metadata": {},
   "outputs": [],
   "source": [
    "from sympy import latex, symbols, exp, sin, cos\n",
    "t = symbols('t')\n",
    "print (latex(f.series(t, 0, 7)))"
   ]
  },
  {
   "cell_type": "markdown",
   "id": "d9607b52",
   "metadata": {},
   "source": [
    "# En resumen"
   ]
  },
  {
   "cell_type": "markdown",
   "id": "46b9f10f",
   "metadata": {},
   "source": [
    "**VARIABLES:** El enunciado\n",
    "\n",
    "        alguna_variable = obj\n",
    "\n",
    "define una variable con el nombre **alguna_variable** que esta referida al objeto **obj**.\n",
    "\n",
    "* Los nombres de variables pueden tener núeros, guión bajo, letras mayúsculas y minúsculas pero no pueden empezar con un número. \n",
    "\n",
    "* Usa nombres que estén conectados con la interpretación de esa variable en el problema. \n",
    "\n",
    "* Buenos nombres de variables, reducen la necesidad de comentar el programa. Todo lo que se encuentre después del **#** es ignorado."
   ]
  },
  {
   "cell_type": "markdown",
   "id": "bc156684",
   "metadata": {},
   "source": [
    "**OBJETOS:** En **Python** hay diferentes tipos de objetos. Hasta ahora hemos trabajado con:\n",
    "\n",
    "       integer -- números enteros, objecto tipo **int**  \n",
    "\n",
    "       float -- números con decimales, objeto tipo **float**\n",
    "\n",
    "       string -- pedazo de texto, objeto tipo **str**  \n",
    "\n"
   ]
  },
  {
   "cell_type": "code",
   "execution_count": null,
   "id": "e68a969b",
   "metadata": {},
   "outputs": [],
   "source": [
    "a = 'Este es un pedazo de texto \\n escrito en dos lineas.'\n",
    "b = \"Los textos pueden escribirse con una comilla o doble comilla\" \n",
    "c = \"\"\"Los textos con tres dobles comillas \n",
    "pueden ocupar \n",
    "varias lineas.\n",
    "\"\"\"\n",
    "print (c)"
   ]
  },
  {
   "cell_type": "markdown",
   "id": "2518c840",
   "metadata": {},
   "source": [
    "**OPERADORES:**  \n",
    "\n",
    "Los operadores en expresiones artiméticas siguen las reglas de las matemáticas: la potencia es evaluada antes de la multiplicación y división y éstas últimas se evaluan antes de la suma y la resta.\n",
    "\n",
    "Estas reglas se reescriben, si se usan paréntesis. Se sugiere el uso de paréntesis de cualquier manera, para mejorar la claridad en el cédigo.\n",
    "\n",
    "Con cuidado cuando programamos divisiones! los denominadores con operaciones de suma y resta requieren paréntesis. No es lo mismo **a/(a+b)** que **(a/a+b)**\n"
   ]
  },
  {
   "cell_type": "markdown",
   "id": "7c004892",
   "metadata": {},
   "source": [
    "**FUNCIONES MATEMÁTICAS**\n",
    "\n",
    "El módulo **math** contiene las funciones matemáticas más usadas para variable real. Los módulos se importan antes de usarse. Puedes importar módulos de diferentes maneras:"
   ]
  },
  {
   "cell_type": "code",
   "execution_count": null,
   "id": "191d15c1",
   "metadata": {},
   "outputs": [],
   "source": [
    "# Importar modulo - las functiones requiren prefijo \n",
    "import math \n",
    "a = math.sin(math.pi*1.5)\n",
    "\n",
    "# Importar funciones individuales - no se requiere prefijo\n",
    "from math import sin, pi\n",
    "a = sin(pi*1.5)\n",
    "\n",
    "# Importar todo el modulo - no se requiere prefijo \\\\\n",
    "from math import *\n",
    "a = sin(pi*1.5)"
   ]
  },
  {
   "cell_type": "markdown",
   "id": "cf0d7f9e",
   "metadata": {},
   "source": [
    "# Ejercicio 5\n",
    "\n",
    "¿Cuál es la trayectoria de una pelota que se lanza con una rapidéz inicial $v_0$ a un ángulo $\\theta$ medido de la horizontal?\n",
    "\n",
    "Sabemos que la pelota seguirá una trayectoria $y = f(x)$, donde, en ausencia de resistencia del aire,\n",
    "\n",
    "$$\n",
    "f(x) = x \\tan \\theta - \\frac{g}{2v_0^2}\\frac{x^2}{\\cos^2\\theta} + y_0.\n",
    "$$\n",
    "\n",
    "En esta expresión, $x$ es la coordenada horizontal, $g$ es la aceleración de la gravedad y $y_0$ es la posición inicial de la pelota.\n",
    "\n",
    "1. En tu portafolio de clase, elabora un programa en el que evalues esta expresión. El programa debe escribir el valor de todas las variables involucradas junto con las unidades usadas."
   ]
  }
 ],
 "metadata": {
  "kernelspec": {
   "display_name": "Python 3 (ipykernel)",
   "language": "python",
   "name": "python3"
  },
  "language_info": {
   "codemirror_mode": {
    "name": "ipython",
    "version": 3
   },
   "file_extension": ".py",
   "mimetype": "text/x-python",
   "name": "python",
   "nbconvert_exporter": "python",
   "pygments_lexer": "ipython3",
   "version": "3.8.10"
  }
 },
 "nbformat": 4,
 "nbformat_minor": 5
}
