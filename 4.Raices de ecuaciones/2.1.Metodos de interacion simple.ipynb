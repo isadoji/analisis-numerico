{
 "cells": [
  {
   "cell_type": "markdown",
   "metadata": {},
   "source": [
    "# Método de iteración simple para encontrar raices"
   ]
  },
  {
   "cell_type": "markdown",
   "metadata": {},
   "source": [
    "Nos interesa encontrar raices de ecuaciones que involucran polinomios y/o radicales y/o funciones trascendentes. El problema más sencillo es la búsqueda de las raices de la ecuación cuadrática\n",
    "\\begin{equation}\n",
    "ax^2+bx+c=0\n",
    "\\end{equation}\n",
    "cuyas raices son conocidas y pueden simplemente evaluarse a partir de\n",
    "\\begin{equation}\n",
    "x=\\frac{-b \\pm \\sqrt{b^2-4ac}}{2a}.\n",
    "\\end{equation}\n",
    "\n",
    "Pero, ¿qué sucede cuando tenemos ecuaciones donde estan involucrados polinomios de alto grado o funciones trigonométricas o logaritmos? \n",
    "\n",
    "## <center>$\\longrightarrow$ Métodos numéricos"
   ]
  },
  {
   "cell_type": "markdown",
   "metadata": {},
   "source": [
    "El método más simple para encontrar raices es:\n",
    "\n",
    "1. Las ecuaciones se escriben de manera que la variable de interés esta del lado izquierdo de dicha ecuación.\n",
    "2. Se utiliza un valor inicial (valor inicial estimado o supuesto) para evaluar el lado derecho de la ecuación y se obtiene un nuevo valor calculado de la variable de interés.\n",
    "3. Se utiliza el nuevo valor obtenido como nuevo valor de entrada y se vuelve a evaluar el lado derecho de la ecuación.\n",
    "4. Se repite el paso anterior hasta que el nuevo valor de salida de la evaluación sea **teóricamente** igual al valor viejo de la variable.\n",
    "5. En este momento se considera que se ha obtenido una raíz de la ecuación. \n",
    "\n",
    "Las otras raices se pueden encontrar, cambiando el valor inicial estimado o suspuesto."
   ]
  },
  {
   "cell_type": "markdown",
   "metadata": {},
   "source": [
    "## Pseudocódigo\n",
    "\n",
    "![DIV](fig/pseudocode.png)"
   ]
  },
  {
   "cell_type": "markdown",
   "metadata": {},
   "source": [
    "# Ejemplo 1\n",
    "\n",
    "Encuentra las raices de la ecuación\n",
    "\\begin{equation}\n",
    "2x^2-5x+3=0,\n",
    "\\end{equation}\n",
    "cuya solución analítica es conocida: $x = 1$ and $x = 1.5$.\n",
    "\n",
    "\n",
    "El primer paso del algoritmo es manual, asi que reescribimos la ecuación de la forma\n",
    "\\begin{equation}\n",
    "x=\\frac{2x^2+3}{5}\n",
    "\\end{equation}\n",
    "o\n",
    "\\begin{equation}\n",
    "x=\\sqrt{\\frac{5x-3}{2}}\n",
    "\\end{equation}"
   ]
  },
  {
   "cell_type": "code",
   "execution_count": null,
   "metadata": {},
   "outputs": [],
   "source": [
    "# Ejemplo 1: Metodo de interacion simple \n",
    "\n",
    "x = 0       # valor inicial supuesto                   \n",
    "for iteration in range(1,200):  # 100 iteraciones supuestas\n",
    "  print (iteration,x)          # imprime el valor de x en cada iteracion\n",
    "  xnew = (2*x**2 + 3)/5        # calcula el lado derecho de la ecuacion\n",
    "  if x == xnew:                # compara con el viejo valor\n",
    "    break                      # si ya son iguales, sal\n",
    "  x = xnew                     # si no, asigna nuevo valor como valor inicial\n",
    "print (iteration, xnew)      # e imprime el nuevo valor\n",
    "                              "
   ]
  },
  {
   "cell_type": "markdown",
   "metadata": {},
   "source": [
    "## Precisión de la solución y tolerancia\n",
    "\n",
    "Mira la salida de los dos ultimos valores en la ultima iteración\n",
    "\n",
    "<center>99 0.9999999999243603</center>\n",
    "\n",
    "<center>100 0.9999999999394882</center>\n",
    "\n",
    "\n",
    "Los valores y comparativos que se hacen, dependen directamente de la precisión de las variables que puede dar la computadora. \n",
    "\n",
    "Como las variables son flotantes **float** o **double**, habría 16 cifras significativas para cada valor calculado. Esto significa que la condición de equidad exacta es imposible.\n",
    "\n",
    "En la práctica, necesitamos determinar un nivel/grado de precisión en la solución. La condición de equidad debe ser modificada para incluir la **tolerancia**: el valor absoluto máximo de la diferencia entre valores (\"el viejo y el nuevo\") de la variable de la ecuación que resulta de dos iteraciones sucesivas.\n"
   ]
  },
  {
   "cell_type": "markdown",
   "metadata": {},
   "source": [
    "# Ejemplo 2  \n",
    "\n",
    "Metodo de interacion simple con tolerancia $1\\times 10^{-6}$\n"
   ]
  },
  {
   "cell_type": "code",
   "execution_count": null,
   "metadata": {},
   "outputs": [],
   "source": [
    "# Ejemplo 2 .\n",
    "\n",
    "x = 0       # valor inicial supuesto                   \n",
    "for iteration in range(1,101):  # 100 iteraciones supuestas\n",
    "   print (iteration,x)          # imprime el valor de x en cada iteracion\n",
    "   xnew = (2*x**2 + 3)/5        # calcula el lado derecho de la ecuacion\n",
    "   if abs(x - xnew) < 0.000001: # en lugar de if x == xnew\n",
    "     break                      # si ya son iguales, sal\n",
    "   x = xnew                     # si no, asigna nuevo valor como valor inicial\n",
    "   print (iteration, xnew)      # e imprime el nuevo valor"
   ]
  },
  {
   "cell_type": "markdown",
   "metadata": {},
   "source": [
    "## Convergencia\n",
    "\n",
    "El comportamiento de la búsqueda de solución que se obtiene para la ecuación cuadrática, \n",
    "es tal, que muestra que los dos valores (el viejo y el nuevo), se acercan a medida que avanzan las iteraciones, de tal manera que para la iteración 50, los dos valores se consideran iguales bajo el criterio de tolerancia.\n",
    "\n",
    "Este comportamiento se conoce como la convergencia de valores a una solución específica. En este caso, la siguiente gráfica muestra la convergencia de los valores a 1.\n",
    "\n",
    "\n"
   ]
  },
  {
   "cell_type": "code",
   "execution_count": null,
   "metadata": {},
   "outputs": [],
   "source": [
    "def met_iter_simple(a, tol): \n",
    "  x = a       # valor inicial supuesto                   \n",
    "  for paso in range(1,101):  # 100 iteraciones supuestas\n",
    "    xnew = (2*x**2 + 3)/5        # calcula el lado derecho de la ecuacion\n",
    "    if abs(x - xnew) < tol: # en lugar de if x == xnew\n",
    "      break                      # si ya son iguales, sal\n",
    "    x = xnew                     # si no, asigna nuevo valor como valor inicial\n",
    "    yield paso, x, xnew     # guardar el arreglo de 3 columnas\n",
    "\n",
    "import numpy as np\n",
    "np.array(list(met_iter_simple(0, 10e-6))) #crear el arreglo con la salida\n",
    "\n",
    "import matplotlib.pyplot as plt\n",
    "\n",
    "data = np.array(list(met_iter_simple(0, 10e-6)))\n",
    "\n",
    "\n",
    "plt.plot(data[:,0], data[:,1],data[:,2])          # graficar \n",
    "#plt.show()\n",
    "\n",
    "plt.savefig('fig/metitersimple.png')"
   ]
  },
  {
   "cell_type": "markdown",
   "metadata": {},
   "source": [
    "## Divergencia\n",
    "\n",
    "Ocurre cuando la diferencia entre los valores de la variable se vuelve mayor con cada\n",
    "iteración, hasta que se alcanza el último valor de los ciclos de iteración.\n",
    "El origen de las divergencias es multifactorial y depende del tipo de ecuación que estemos resolviendo, del valor inicial que suponemos, del método de escritura de la ecuación (del tipo de despeje que usemos).\n",
    "\n",
    "Por ejemplo, esta gráfica muestra el comportamiento de las variables en el caso de divergencia en la solución a la ecuación  $x\\cos(x)-1 = 0$.\n"
   ]
  },
  {
   "cell_type": "markdown",
   "metadata": {},
   "source": [
    "\n",
    "![DIV](fig/fig2.png)"
   ]
  }
 ],
 "metadata": {
  "interpreter": {
   "hash": "916dbcbb3f70747c44a77c7bcd40155683ae19c65e1c03b4aa3499c5328201f1"
  },
  "kernelspec": {
   "display_name": "Python 3 (ipykernel)",
   "language": "python",
   "name": "python3"
  },
  "language_info": {
   "codemirror_mode": {
    "name": "ipython",
    "version": 3
   },
   "file_extension": ".py",
   "mimetype": "text/x-python",
   "name": "python",
   "nbconvert_exporter": "python",
   "pygments_lexer": "ipython3",
   "version": "3.8.10"
  }
 },
 "nbformat": 4,
 "nbformat_minor": 2
}
