{
 "cells": [
  {
   "cell_type": "markdown",
   "metadata": {},
   "source": [
    "# Método de Bisección\n",
    "\n",
    "Este método esta basado en el hecho de que la raíz de una ecuación $y=f(x)$ es el punto donde la curva asociada a ella, cruza el eje $x$. \n",
    "\n",
    "Por ejemplo la gráfica de $y=2x^{2}-5x+3$ es\n"
   ]
  },
  {
   "cell_type": "code",
   "execution_count": null,
   "metadata": {},
   "outputs": [],
   "source": [
    "import matplotlib.pyplot as plt\n",
    "import numpy as np\n",
    "\n",
    "ax = plt.subplot(111)\n",
    "\n",
    "t = np.arange(0.0, 3.0, 0.01)\n",
    "s = 2*t**2-5*t+3  # np.cos(2*np.pi*t)\n",
    "line, = plt.plot(t, s, lw=2)\n",
    "\n",
    "plt.annotate('raiz', xy=(1.5, 0), xytext=(2.5, 0.5),\n",
    "             arrowprops=dict(facecolor='black', shrink=0.05),\n",
    "             )\n",
    "plt.annotate('raiz', xy=(1.0, 0), xytext=(0, 0.5),\n",
    "             arrowprops=dict(facecolor='black', shrink=0.05),\n",
    "             )\n",
    "\n",
    "plt.grid(True)\n",
    "plt.ylim(-0.5, 1)\n",
    "\n",
    "plt.title(\"$y=2x^2-5x+3$\")\n",
    "#plt.plot(s, label='linear')\n",
    "#plt.legend(loc='upper left', frameon=True)\n",
    "plt.ylabel('$y = f(x)$')\n",
    "plt.xlabel('x')\n",
    "\n",
    "#plt.show()\n",
    "\n",
    "plt.savefig('fig/raices.png')"
   ]
  },
  {
   "cell_type": "markdown",
   "metadata": {},
   "source": [
    "La curva cruza el eje $x$ en 1 y en 1.5 (es decir cuando $y=0$), que son las raices de la ecuación."
   ]
  },
  {
   "cell_type": "markdown",
   "metadata": {},
   "source": [
    "El método de bisección busca las raices a lo largo del eje $x$, a partir de usar el criterio de que al ser raiz, debe encontrarse entre dos puntos en $x$ cuyos valores correspondientes en $y$ tienen signos opuestos.\n",
    "1. Se escoge un intervalo en $x$ donde esté contenida la raíz.\n",
    "2. Al tener un intervalo en $x$ donde se encuentra una raíz, el método afina la posición de dicha raíz, por particiones a la mitad del intervalo de manera sucesiva (por ello el método es llamado **bisección**.\n",
    "3. La bisección sucesiva del intervalo, hace que se refine la posición de la raíz, y sucede hasta que la evaluación en los extremos del intervalo, dé como resultado valores de $y$ prácticamente iguales.\n",
    "\n",
    "Una vez que se encuentra de esta manera una raíz, se puede comenzar con el algoritmo usando otro intervalo de búsqueda en $x$."
   ]
  },
  {
   "cell_type": "markdown",
   "metadata": {},
   "source": [
    "## Pseudocódigo\n",
    "\n",
    "![DIV](fig/pseudocode2.png)"
   ]
  },
  {
   "cell_type": "markdown",
   "metadata": {},
   "source": [
    "# Ejemplo 1\n",
    "\n",
    "Encuentra las raices de la siguiente ecuación\n",
    "\\begin{equation}\n",
    "2x^2-5x+3=0\n",
    "\\end{equation}\n",
    "\n",
    "Reescribimos la ecuación como una función $y=f(x)$\n",
    "\\begin{equation}\n",
    "y=2x^2-5x+3\n",
    "\\end{equation}\n",
    "\n",
    "Usando esta función y el pseudocódigo anterior, implementemos un algoritmo para comenzar a probar el método."
   ]
  },
  {
   "cell_type": "code",
   "execution_count": null,
   "metadata": {},
   "outputs": [],
   "source": [
    "# Metodo de Biseccion para el Ejemplo 1\n",
    "x1 = 0                # primer valor del intervalo\n",
    "x2 = 1.2               # segudo valor del intervalo\n",
    "y1 = 2*x1**2-5*x1+3    # calcula y1\n",
    "y2 = 2*x2**2-5*x2+3    # calcula y2\n",
    "if y1*y2 > 0:          # prueba si los signos son iguales\n",
    "    print('No hay raices en el intervalo dado')\n",
    "    exit               # termina el programa  #falta encontrar el buen EXIT!!\n",
    "for i in range(1,101): # asume que 100 bisecciones son suficientes\n",
    "  xh = (x1+x2)/2         # calcula el valor medio\n",
    "  yh = 2*xh**2-5*xh+3    # calcula el valor de y en el valor medio yh\n",
    "  y1 = 2*x1**2-5*x1+3    # calcula y1\n",
    "  if abs(y1) < 1.0e-6:   # condicion de acercamiento a la solucion (tol)\n",
    "    break                  # salir del loop\n",
    "  elif y1*yh < 0:        # si el signo es diferente quedarse en la primera mitad\n",
    "    x2 = xh                # que x2 sea el punto medio\n",
    "  else:                  # si el signo es igual quedarse en la segunda mitad\n",
    "    x1 = xh                # que x1 sea el punto medio\n",
    "print('La raiz es: %.5f' % x1)\n",
    "print('Numero de bisecciones: %d' % i)"
   ]
  },
  {
   "cell_type": "markdown",
   "metadata": {},
   "source": [
    "Si cambias el intervalo de inicio a $x1 = 1.1$ y $x2 = 2$, obtienes la segunda raíz:\n",
    "\n",
    "La raiz es: 1.50000\n",
    "\n",
    "Numero de bisecciones: 21\n",
    "\n",
    "Esta es la manera más simple de implementar el método de bisección, pero hay un par de modificaciones que hacen mucho mejor el algoritmo."
   ]
  },
  {
   "cell_type": "markdown",
   "metadata": {},
   "source": [
    "# Método de Bisección ... mejorado\n",
    "\n",
    "Tuvimos que repetir el cálculo de valores de $y$ cuatro veces en el código. Esto puede ser suceptible a errores, sobre todo cuando estemos implementando el algoritmo para ecuaciones grandes. \n",
    "\n",
    "Lo mejor es que definamos una función que incluya la ecuación y que la estemos llamando cada vez que queremos evaluarla para diferentes valores de $x$.\n",
    "\n",
    "\n",
    "Hay dos maneras simples de construir funciones en **Python**\n",
    "\n",
    "* Funciones lambda, por ejemplo: y = $\\lambda$ x: 2*x**2 - 5*x + 3\n",
    "* Funciones generales, por ejemplo:"
   ]
  },
  {
   "cell_type": "code",
   "execution_count": null,
   "metadata": {},
   "outputs": [],
   "source": [
    "# Funciones generales\n",
    " \n",
    "def  y(x):\n",
    "    y = 2*x**2 - 5*x + 3\n",
    "    return y"
   ]
  },
  {
   "cell_type": "markdown",
   "metadata": {},
   "source": [
    "o simplemente\n"
   ]
  },
  {
   "cell_type": "code",
   "execution_count": null,
   "metadata": {},
   "outputs": [],
   "source": [
    "# Funciones generales\n",
    " \n",
    "def  y(x):\n",
    "    return 2*x**2 - 5*x + 3"
   ]
  },
  {
   "cell_type": "markdown",
   "metadata": {},
   "source": [
    "# Ejemplo 2: Método de Bisección mejorado"
   ]
  },
  {
   "cell_type": "code",
   "execution_count": null,
   "metadata": {},
   "outputs": [],
   "source": [
    "# Metodo de Biseccion Mejorado para el Ejemplo de clase\n",
    "\n",
    "def y(x):                    # define la funcion y(x)\n",
    "  y = 2*x**2 - 5*x + 3\n",
    "  return y\n",
    "\n",
    "x1 = float(input('Captura el valor de x1: ')) # peticion de valor x1\n",
    "x2 = float(input('Captura el valor de x2: ')) # peticion de valor x2\n",
    "y1 = y(x1)                                    # evalua la funcion y(x1)\n",
    "y2 = y(x2)                                    # evalua la funcion y(x1)\n",
    "\n",
    "if y1*y2 > 0:                                 # prueba si los signos son iguales\n",
    "  print('No hay raices en el intervalo')\n",
    "  exit\n",
    "\n",
    "for i in range(100):\n",
    "  xh = (x1+x2)/2\n",
    "  yh = y(xh)                                  # evalua la funcion y(xh)\n",
    "  y1 = y(x1)                                  # evalua la funcion y(x1)\n",
    "  if abs(y1) < 1.0e-6:\n",
    "    break\n",
    "  elif y1*yh < 0:\n",
    "    x2 = xh\n",
    "  else:\n",
    "    x1 = xh\n",
    "print('La raiz es: %.5f' % x1)\n",
    "print('Numero de bisecciones: %d' % (i+1))"
   ]
  },
  {
   "cell_type": "markdown",
   "metadata": {},
   "source": [
    "# Puedes encontrar raices usando SciPy\n",
    "\n",
    "En el módulo para optimización [scipy.optimize](https://docs.scipy.org/doc/scipy/reference/optimize.html) (Scientific Python), hay muchas herramientas para encontrar raices.\n",
    "\n",
    "Este módulo sirve para resolver diferentes tipos de ecuaciones usando métodos numéricos avanzados. \n",
    "\n",
    "Podemos usar algunas de las funciones de este módulo **newton()**, **bisect()**, **fsolve()** and **root()** directamente en la consola de **Python**"
   ]
  },
  {
   "cell_type": "markdown",
   "metadata": {},
   "source": [
    "# Ejemplo 3: Encontrando raices con diferentes metodos usando Scipy"
   ]
  },
  {
   "cell_type": "code",
   "execution_count": null,
   "metadata": {},
   "outputs": [],
   "source": [
    "from scipy.optimize import newton, bisect, fsolve, root\n",
    "f  = lambda x: 2*x**2-5*x + 3\n",
    "print(newton(f, 0)) # entradas son funcion y valor prueba\n",
    "print(newton(f, 3))\n",
    "print(bisect(f,0,1.2)) # entradas son funcion e intervalo inicial\n",
    "print(bisect(f,1.2,4))\n",
    "print(fsolve(f,0)) # entradas son funcion y valor prueba\n",
    "print(fsolve(f, 2))\n",
    "print(fsolve(f,[0, 1, 2]))"
   ]
  },
  {
   "cell_type": "code",
   "execution_count": null,
   "metadata": {},
   "outputs": [],
   "source": [
    "import math\n",
    "def root(x):\n",
    "    return(math.cos(x)-math.sin(x))\n",
    "\n",
    "def bisection_method(f, a, b, tol):\n",
    "    if f(a)*f(b) > 0:\n",
    "        #end function, no root.\n",
    "        print(\"No root found.\")\n",
    "    else:\n",
    "        iter = 0\n",
    "        while (b - a)/2.0 > tol:\n",
    "            midpoint = (a + b)/2.0\n",
    "            yield iter, abs(f(midpoint)), midpoint\n",
    "            if f(a)*f(midpoint) < 0: # Increasing but below 0 case\n",
    "                b = midpoint\n",
    "            else:\n",
    "                a = midpoint\n",
    "            iter += 1\n",
    "\n",
    "import numpy as np\n",
    "np.array(list(bisection_method(root, 0, 1.57, 10e-3)))\n"
   ]
  }
 ],
 "metadata": {
  "interpreter": {
   "hash": "916dbcbb3f70747c44a77c7bcd40155683ae19c65e1c03b4aa3499c5328201f1"
  },
  "kernelspec": {
   "display_name": "Python 3 (ipykernel)",
   "language": "python",
   "name": "python3"
  },
  "language_info": {
   "codemirror_mode": {
    "name": "ipython",
    "version": 3
   },
   "file_extension": ".py",
   "mimetype": "text/x-python",
   "name": "python",
   "nbconvert_exporter": "python",
   "pygments_lexer": "ipython3",
   "version": "3.8.10"
  }
 },
 "nbformat": 4,
 "nbformat_minor": 2
}
