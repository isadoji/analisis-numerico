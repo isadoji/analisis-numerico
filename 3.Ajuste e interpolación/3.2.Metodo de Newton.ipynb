{
 "cells": [
  {
   "cell_type": "code",
   "execution_count": 3,
   "id": "25a6d47a",
   "metadata": {},
   "outputs": [
    {
     "name": "stdout",
     "output_type": "stream",
     "text": [
      "The jupyter_black extension is already loaded. To reload it, use:\n",
      "  %reload_ext jupyter_black\n"
     ]
    }
   ],
   "source": [
    "%load_ext jupyter_black"
   ]
  },
  {
   "cell_type": "markdown",
   "id": "9b841117",
   "metadata": {},
   "source": []
  },
  {
   "cell_type": "markdown",
   "id": "703062a7",
   "metadata": {},
   "source": [
    "# Interpolación polinomial: Método de Newton\n",
    "\n",
    "El algoritmo más eficiente para la interpolación con polinomios es el que surge del Método de Newton. En este método, el interpolador lo escribimos asi\n",
    "\n",
    "\\begin{align*}\n",
    "P_n(x) &= a_0 + (x-x_0)a_1 + (x-x_0)(x-x_1)a_2 + \\cdots + \\\\\n",
    "&   +  (x-x_0)(x-x_1)\\cdots (x-x_{n-1}) a_n\n",
    "\\end{align*}\n",
    "\n",
    "Para $n=3$ (cuatro parejas de datos)\n",
    "\n",
    "\\begin{align*}\n",
    "P_3(x) &= a_0 + (x-x_0)a_1 + (x-x_0)(x-x_1)a_2 + \\\\\n",
    "&  + (x-x_0)(x-x_1)(x-x_2) a_3 \\\\\n",
    "&= a_0 + (x-x_0)\\left\\{ a_1 + (x-x_1) \\left[ a_2 +  (x-x_2) a_3\\right] \\right\\}\n",
    "\\end{align*}\n",
    "\n",
    "En este caso, podemos evaluar *hacia atrás* de manera recurrente:\n",
    "\n",
    "\\begin{align*}\n",
    "P_0(x) &= a_3  \\\\\n",
    "P_1(x) &= a_2 +  (x-x_2)P_0(x) \\\\\n",
    "P_2(x) &= a_1 + (x-x_1)P_1(x) \\\\\n",
    "P_3(x) &= a_0 + (x-x_0)P_2(x). \n",
    "\\end{align*}\n",
    "\n",
    "De manera que para un valor arbitrario de datos $n$, la relación de recurrencia es\n",
    "\n",
    "\\begin{align*}\n",
    "P_0(x) &= a_n, \\nonumber \\\\\n",
    "P_k(x) &= a_{n-k} + (x-x_{n-k})P_{k-1}(x), ~~~~~ k=1,2,\\ldots ,n,\n",
    "\\end{align*}\n",
    "\n",
    "que podemos programar fácilmente como\n",
    "\n",
    "    p = a[n]\n",
    "    for k in range(1,n+1):\n",
    "        p = a[n-k] + (x - xData[n-k])*p\n",
    "               \n",
    "donde hemos denotado la coordenada $x$ del arreglo de los datos como *xData*. \n",
    "\n",
    "Ahora, ¿cómo obtenemos los coeficientes $a_n$ de los polinomios $P_n$? Tenemos que obligarlos a que pasen por cada dato:\n",
    "\n",
    "$$\n",
    "y_i = P_n(x_i) ~~con ~~i=1,2,\\ldots ,n\n",
    "$$\n",
    "\n",
    "Esta condición nos lleva a necesitar resolver:\n",
    "\n",
    "\\begin{align*}\n",
    "y_0 &= a_0   \\nonumber \\\\\n",
    "y_1 &= a_0 +  (x_1-x_0)a_1  \\nonumber \\\\\n",
    "y_2 &= a_0 +  (x_2-x_0)a_1 +  (x_2-x_0)(x_2-x_1)a_2  \\\\\n",
    "    &\\vdots & \\nonumber \\\\\n",
    "y_n &= a_0 +  (x_n-x_0)a_1 + \\cdots + (x_n-x_0)(x_n-x_1)\\cdots (x_n-x_{n-1}) a_n. \\nonumber\n",
    "\\end{align*}\n",
    "\n",
    "La solución a los coeficientes a partir de este sistema es\n",
    "\n",
    "\\begin{equation*}\n",
    "a_0=y_0 ~~~ a_1=\\nabla y_1  ~~~ a_2=\\nabla^2 y_2 \\ldots a_n=\\nabla^n y_n, \n",
    "\\end{equation*}\n",
    "\n",
    "donde hemos usado las **diferencias divididas de Newton** definidas como\n",
    "\n",
    "\\begin{align*}\n",
    "\\nabla y_i &= \\frac{y_i - y_0}{x_i - x_0},~~~i=1,2,\\ldots ,n \\nonumber \\\\\n",
    "\\nabla^2 y_i &= \\frac{\\nabla y_i - \\nabla y_1}{x_i - x_1},~~~i=2,3,\\ldots ,n \\nonumber \\\\\n",
    "\\nabla^3 y_i &= \\frac{\\nabla^2 y_i - \\nabla^2 y_2}{x_i - x_2},~~~i=3,4,\\ldots ,n  \\\\\n",
    "&\\vdots & \\nonumber \\\\\n",
    "\\nabla^n y_n &= \\frac{\\nabla^{n-1} y_n - \\nabla^{n-1} y_{n-1}}{x_n - x_{n-1}}. \\nonumber\n",
    "\\end{align*}\n",
    "\n",
    "Es conveniente calcular los coeficientes en el siguiente orden (para $n=4$):\n",
    "\n",
    "<div> <img src=\"../fig/newton.jpg\" alt=\"Drawing\" style=\"width: 300px;\"/></div>\n",
    "\n",
    "ya que los términos de la diagonal del lado derecho de este tablero, son los coeficientes de los polinomios que buscamos.\n",
    "\n",
    "Si se cambia de órden a la lista de datos, las entradas de la tabla van a cambiar, pero el polinomio resultante será el mismo: el polinomio de grado $n$ que interpola $n+1$ datos es único.\n",
    "\n"
   ]
  },
  {
   "cell_type": "markdown",
   "id": "0a423777",
   "metadata": {},
   "source": [
    "## Algoritmo del cálculo de diferencias divididas\n",
    "\n",
    "Los cálculos pueden llevarse a cabo con un arreglo unidimensional **a** usando el siguiente algoritmo ($m=n+1$ es el número de datos):\n",
    "\n",
    "    a = yData.copy()\n",
    "        for k in range(1,m):\n",
    "            for i in range(k,m):\n",
    "                a[i] = (a[i] - a[k-1])/(xData[i] - xData[k-1])\n",
    "                    \n",
    "Inicialmente **a** contiene las coordenadas $y$ de los datos, así que es idéntica a la segunda columna de la tabla. Cada iteración sobre el ciclo externo genera las entradas en la siguiente columna, que sobreescriben los elementos de **a** correspondientes. Entonces al final **a** contiene los términos de la diagonal, i.e. los coeficientes del polinomio.\n",
    "\n",
    "Dados los arreglos de datos **xData** y **yData**, la función **coeffts** regresa el arreglo de coeficientes **a**. Una vez que se encuentran los coeficientes, el interpolante $P_n(x)$ puede ser evaluado en cualquier valor de $x$ con la función **evalPoly**."
   ]
  },
  {
   "cell_type": "code",
   "execution_count": 4,
   "id": "672a7a6d",
   "metadata": {},
   "outputs": [],
   "source": [
    "# Método de interpolación de Newton\n",
    "\n",
    "\n",
    "def evalPoly(a, xData, x):  # Función que evalua polinomios de Lagrange\n",
    "    n = len(xData) - 1  # Grado del polinomio\n",
    "    p = a[n]\n",
    "    for k in range(1, n + 1):\n",
    "        p = a[n - k] + (x - xData[n - k]) * p\n",
    "    return p\n",
    "\n",
    "\n",
    "def coeffts(xData, yData):\n",
    "    m = len(xData)  # Número de datos\n",
    "    a = yData.copy()\n",
    "    for k in range(1, m):\n",
    "        a[k:m] = (a[k:m] - a[k - 1]) / (xData[k:m] - xData[k - 1])\n",
    "    return a"
   ]
  },
  {
   "cell_type": "markdown",
   "id": "f37256fd",
   "metadata": {},
   "source": [
    "## Limitaciones de la inter/extra-polación polinomial\n",
    "\n",
    "Interpolación polinomial debe llevarse a cabo con el número más pequeño posible de datos:\n",
    "\n",
    "* Interpolación lineal, es suficiente usar los 2 puntos más cercanos, si los datos son suficientemente cercanos en el espacio.\n",
    "* Un interpolante intersectando mas de 6 puntos debe ser visto con sospecha: los puntos que estan lejos del punto de interés no contribuyen a la precisión del inteprolante, de hecho pueden hasta estorbar.\n",
    "\n",
    "Extrapolación polinomial (interpolar afuera del rango de datos), es peligroso. Si se tiene que hacer, las recomendaciones son:\n",
    "* Grafica los datos y verifica visualmente que los valores extrapolados hacen sentido.\n",
    "* Usa un polinomio de órden bajo basado en datos primeros-vecinos.\n",
    "* Trabaja con una gráfica **Log-Log**, que usalmente es más suave que la curva original, por lo tanto es más seguro extrapolar.\n",
    "\n"
   ]
  },
  {
   "cell_type": "markdown",
   "id": "9de12bc1",
   "metadata": {},
   "source": [
    "# Ejemplo 1: Método de Newton\n",
    "\n",
    "Los datos de la tabla caen en la gráfica de $f(x) = 4.8\\cos\\frac{\\pi x}{20}$. Interpola estos datos por el método de Newton en $x=0,0.5,1.0,\\cdots, 8.0$, compara los resultados con los valores \"exactos\" $y_i=f(x_i)$ y calcula el error porcentual."
   ]
  },
  {
   "cell_type": "code",
   "execution_count": 5,
   "id": "25170a6e",
   "metadata": {},
   "outputs": [
    {
     "data": {
      "image/png": "[encoded data removed]",
      "text/plain": [
       "<Figure size 640x480 with 1 Axes>"
      ]
     },
     "metadata": {},
     "output_type": "display_data"
    },
    {
     "name": "stdout",
     "output_type": "stream",
     "text": [
      "  x    yExacta        yInt       Error(%)\n",
      "------------------------------------------\n",
      " 0.0  4.80000000   4.80002509    0.00052280\n",
      " 0.5  4.78520320   4.78517849    0.00051639\n",
      " 1.0  4.74090403   4.74087697    0.00057085\n",
      " 1.5  4.66737562   4.66736070    0.00031966\n",
      " 2.0  4.56507128   4.56506686    0.00009671\n",
      " 2.5  4.43462176   4.43462106    0.00001572\n",
      " 3.0  4.27683132   4.27682865    0.00006232\n",
      " 3.5  4.09267279   4.09266615    0.00016227\n",
      " 4.0  3.88328157   3.88327258    0.00023171\n",
      " 4.5  3.64994863   3.64994085    0.00021336\n",
      " 5.0  3.39411255   3.39410914    0.00010051\n",
      " 5.5  3.11735063   3.11735225    0.00005203\n",
      " 6.0  2.82136921   2.82137301    0.00013448\n",
      " 6.5  2.50799311   2.50799358    0.00001863\n",
      " 7.0  2.17915440   2.17914691    0.00034380\n",
      " 7.5  1.83688048   1.83686805    0.00067665\n",
      " 8.0  1.48328157   1.48328554    0.00026758\n"
     ]
    }
   ],
   "source": [
    "import numpy as np\n",
    "import matplotlib.pyplot as plt\n",
    "from math import *\n",
    "\n",
    "xData = np.array([0.15, 2.30, 3.15, 4.85, 6.25, 7.95])\n",
    "yData = np.array([4.79867, 4.49013, 4.2243, 3.47313, 2.66674, 1.51909])\n",
    "coeff = coeffts(xData, yData)\n",
    "x = np.arange(0, 8.5, 0.5)\n",
    "plt.plot(x, evalPoly(coeff, xData, x), \"r\", label=\"Newton\")\n",
    "plt.plot(xData, yData, \"o\", label=\"Datos\")\n",
    "plt.legend()\n",
    "plt.grid()\n",
    "plt.show()\n",
    "print(\"  x    yExacta        yInt       Error(%)\")\n",
    "print(\"------------------------------------------\")\n",
    "for i in range(len(x)):\n",
    "    y = evalPoly(coeff, xData, x[i])\n",
    "    yExacta = 4.8 * cos(pi * x[i] / 20)\n",
    "    Error = abs(((yExacta - y) / yExacta) * 100)\n",
    "    print(\" %.1f  %.8f   %.8f    %.8f\" % (x[i], yExacta, y, Error))"
   ]
  }
 ],
 "metadata": {
  "kernelspec": {
   "display_name": "base",
   "language": "python",
   "name": "python3"
  },
  "language_info": {
   "codemirror_mode": {
    "name": "ipython",
    "version": 3
   },
   "file_extension": ".py",
   "mimetype": "text/x-python",
   "name": "python",
   "nbconvert_exporter": "python",
   "pygments_lexer": "ipython3",
   "version": "3.12.8"
  }
 },
 "nbformat": 4,
 "nbformat_minor": 5
}
