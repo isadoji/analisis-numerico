{
 "cells": [
  {
   "cell_type": "markdown",
   "id": "e382687c",
   "metadata": {},
   "source": [
    "# Interpolacaión y ajuste de curvas\n",
    "\n",
    "Frecuentemente nos enfrentamos a este problema\n",
    "\n",
    "* dados $n+1$ datos $(x_i,y_i)$ con $i=0,1,\\ldots ,n$, estima $y(x)$,\n",
    "cuando tenemos que analizar datos de observaciones experimentales o de cálculos numéricos.\n",
    "\n",
    "<div> <img src=\"../fig/interVSfit.jpg\" alt=\"Drawing\" style=\"width: 300px;\"/></div>\n",
    "\n",
    "\n",
    "* Interpolación: construir una curva que **pase por los datos**. Entonces estamos asumiendo que los datos son precisos.\n",
    "* Ajuste a una curva: construir una curva que **aproxime los datos**. Entonces estamos asumiendo que los datos tienen **ruido** (por ejemplo el debido a los errores en la medición). La curva no necesariamente pasa por los datos.\n"
   ]
  },
  {
   "cell_type": "markdown",
   "id": "b1734f54",
   "metadata": {},
   "source": [
    "# Métdodo de Lagrange\n",
    "\n",
    "Se busca un polinomio que pase por cada uno de los puntos de la función, a partir de las diferencias divididas:\n",
    "\n",
    "\\begin{equation*}\n",
    "f(x_i - x_{i-1}) = \\frac{f(x_i)-f(x_{i-1})}{x_i-x_{i-1}}\n",
    "\\end{equation*}\n",
    "\n",
    "Se propone un polinomio de la forma:\n",
    "\n",
    "\\begin{equation*}\n",
    "P_n(x)= \\sum_{i=0}^{n}  A_i(x-x_1)(x-x_2)\\cdots(x-x_{n-1}) \n",
    "\\end{equation*}\n",
    "\n",
    "que es un polinomio de grado n−1 ylos coeficientes $A_i$ deben determinarse de tal manera\n",
    "que el polinomio pase por todos y cada uno de los puntos de la función tabular.\n",
    "\n",
    "Evaluando en x = $x_0$ y despejando $A_0$\n",
    "\n",
    "\\begin{equation*}\n",
    "A_0=\\frac{P_0}{(x_0-x_1)(x_0-x_2)\\cdots(x_0-x_{n-1})} \n",
    "\\end{equation*}\n",
    "\n",
    "asi hasta el punto x = $x_n$\n",
    "\n",
    "\n",
    "\\begin{equation*}\n",
    "A_n=\\frac{P_n}{(x_n-x_1)(x_n-x_2)\\cdots(x_n-x_{n-1})} \n",
    "\\end{equation*}\n",
    "\n",
    "y entonces el polinomio $P_n(x)$ es:\n",
    "\n",
    "\\begin{equation*}\n",
    "P_n(x)=\\frac{P_0(x-x_2)\\cdots(x-x_{n-1})}{(x_0-x_1)(x_0-x_2)\\cdots(x_0-x_{n-1})}+\\cdots+\\frac{P_n(x-x_2)\\cdots(x-x_{n-1})}{(x_n-x_1)(x_n-x_2)\\cdots(x_n-x_{n-1})} \n",
    "\\end{equation*}\n",
    "\n",
    "que es la expresión de Lagrange:\n",
    "\n",
    "\\begin{equation*}\n",
    "P_n(x) = \\sum_{i=0}^{n} y_i \\ell_i(x) = \\sum_{i=0}^{n} y_i \\prod_{j(\\neq i) = 0}^n \\frac{x-x_j}{x_i-x_j},~~~~~i=0,1,\\ldots ,n.\n",
    "\\end{equation*}\n",
    "\n",
    "donde $\\ell_i(x)$ son **funciones cardinales** "
   ]
  },
  {
   "cell_type": "markdown",
   "id": "0e5bd87d",
   "metadata": {},
   "source": [
    "Si $n=1$, $P_1(x) = y_0 \\ell_0(x)+y_1 \\ell_1(x)$ es una recta, donde\n",
    "\n",
    "\\begin{align*}\n",
    "\\ell_0(x) = \\frac{x-x_1}{x_0-x_1} && \\ell_1(x) = \\frac{x-x_0}{x_1-x_0}.\n",
    "\\end{align*}\n",
    "\n",
    "Si $n=2$, $P_2(x) = y_0 \\ell_0(x)+y_1 \\ell_1(x)+y_2 \\ell_2(x)$ es una parábola, donde\n",
    "\n",
    "\\begin{align*}\n",
    "\\ell_0(x) &= \\frac{x-x_1}{x_0-x_1}\\frac{x-x_2}{x_0-x_2}, \\\\ \n",
    "\\ell_1(x) &= \\frac{x-x_0}{x_1-x_0}\\frac{x-x_2}{x_1-x_2}, \\\\\n",
    "\\ell_2(x) &= \\frac{x-x_0}{x_2-x_0}\\frac{x-x_1}{x_2-x_1}. \n",
    "\\end{align*}\n",
    "\n",
    "\n",
    "<div> <img src=\"../fig/interVSfit-1.jpg\" alt=\"Drawing\" style=\"width: 300px;\"/></div>\n",
    "\n",
    "Las funciones cardinales tienen la propiedad de\n",
    "\n",
    "\\begin{align*}\n",
    "\\ell_i(x_j) = \\Biggl\\{\\begin{array}{cc}\n",
    "0 & si ~i\\neq j \\\\\n",
    "1 & si ~i = j \n",
    "\\end{array} \\Biggr\\} = \\delta_{ij}\n",
    "\\end{align*}\n",
    "\n",
    "Para mostrar que los polinomios pasan por los datos, podemos sustituir $x=x_j$ en $P_n$ y luego usar sus propiedades, para tener\n",
    "\n",
    "\\begin{equation*}\n",
    "P_n(x_j) = \\sum_{i=0}^{n} y_i \\ell_i(x_j) = \\sum_{i=0}^{n} y_i \\delta_{ij} = y_j.\n",
    "\\end{equation*}\n",
    "\n",
    "Tambien se puede mostrar que el error en la interpolación con polinomios es\n",
    "\n",
    "\\begin{equation*}\n",
    "f(x) - P_n(x) = \\frac{(x-x_0)(x-x_1)\\cdots(x-x_n)}{(n+1)!}f^{(n+1)}(\\xi),\n",
    "\\end{equation*}\n",
    "\n",
    "donde $\\xi \\in (x_0,x_n)$, asi que cuanto más lejos este un dato de $x$, más contribuye al error en $x$.\n"
   ]
  },
  {
   "cell_type": "markdown",
   "id": "3946138d",
   "metadata": {},
   "source": [
    "# Ejemplo 1: Método de Lagrange"
   ]
  },
  {
   "cell_type": "code",
   "execution_count": 8,
   "id": "2d3802b4",
   "metadata": {},
   "outputs": [
    {
     "name": "stdout",
     "output_type": "stream",
     "text": [
      "For x = 50.0, y = 1.6\n",
      "For x = 50.0, y = -13.6\n",
      "For x = 50.0, y = 44.2\n",
      "For x = 50.0, y = 66.4\n"
     ]
    }
   ],
   "source": [
    "try:\n",
    "  x = [0, 20, 40, 60]\n",
    "  y = [26.0, 48.6, 61.6, 71.2]\n",
    "  m = len(x)\n",
    "  n = m-1\n",
    "  xp = float(input('Enter x : '))\n",
    "  yp = 0\n",
    "  for i in range(n+1):\n",
    "    L = 1\n",
    "    for j in range(n+1):\n",
    "        if j != i:\n",
    "            L *= (xp - x[j])/(x[i] - x[j])\n",
    "    yp += y[i]*L\n",
    "    print('For x = %.1f, y = %.1f' % (xp,yp))\n",
    "except:\n",
    "  print('Please insert a valid number')"
   ]
  },
  {
   "cell_type": "code",
   "execution_count": 9,
   "id": "b0b78d40",
   "metadata": {},
   "outputs": [
    {
     "name": "stdout",
     "output_type": "stream",
     "text": [
      "           5             4             3           2\n",
      "3.698e-08 x - 9.688e-06 x + 0.0009219 x - 0.04463 x + 1.725 x + 26\n",
      "Para x=50, y= 66.94765624999957\n"
     ]
    },
    {
     "data": {
      "image/png": "[encoded data removed]",
      "text/plain": [
       "<Figure size 640x480 with 1 Axes>"
      ]
     },
     "metadata": {},
     "output_type": "display_data"
    }
   ],
   "source": [
    "#Método de Lagrange con scipy\n",
    "from scipy.interpolate import lagrange\n",
    "import numpy as np\n",
    "import matplotlib.pyplot as plt\n",
    "\n",
    "x=[0,20,40,60,80,100]\n",
    "y=[26.0,48.6,61.6,71.2,74.8,75.2]\n",
    "L=lagrange(x,y)\n",
    "x1=np.arange(0,100,1)\n",
    "print(L)\n",
    "print(\"Para x=50, y=\",L(50))\n",
    "plt.plot(x1,L(x1),label=\"Interpolación\")\n",
    "plt.plot(x,y,\"o\",label=\"Datos\")\n",
    "plt.legend()\n",
    "plt.grid()\n",
    "plt.show()"
   ]
  },
  {
   "cell_type": "markdown",
   "id": "d2f699ac",
   "metadata": {},
   "source": [
    "El método de Lagrange también puede ser utilizada para datos que no están igualmente espaciados"
   ]
  },
  {
   "cell_type": "markdown",
   "id": "cdabfb44",
   "metadata": {},
   "source": [
    "# Ejemplo 2: \n",
    "\n",
    "Usando el método de interpolación de Lagrange,\n",
    "\n",
    "1. Código visto en clase\n",
    "2. Función de scipy\n",
    "\n",
    "encuentre el valor de relación de expansión correspondiente a un peso de $5.5$ libras dentro de una lista de valores de tensiones de prueba: \n",
    "\n",
    "| Peso (lb) | Expansión |\n",
    "| --- | --- |\n",
    "| 2.4 | 0.101 |  \n",
    "| 5.1 | 0.128 |  \n",
    "| 7.0 | 0.241 |  \n",
    "| 8.5 | 0.403 |\n",
    "| 9.7 | 0.677 |"
   ]
  }
 ],
 "metadata": {
  "kernelspec": {
   "display_name": "Python 3 (ipykernel)",
   "language": "python",
   "name": "python3"
  },
  "language_info": {
   "codemirror_mode": {
    "name": "ipython",
    "version": 3
   },
   "file_extension": ".py",
   "mimetype": "text/x-python",
   "name": "python",
   "nbconvert_exporter": "python",
   "pygments_lexer": "ipython3",
   "version": "3.10.6"
  }
 },
 "nbformat": 4,
 "nbformat_minor": 5
}
