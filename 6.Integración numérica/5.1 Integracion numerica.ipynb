{
 "cells": [
  {
   "cell_type": "markdown",
   "id": "105b7b77",
   "metadata": {},
   "source": [
    "# 5.1 Integración Numérica\n",
    "\n",
    "\n",
    "La integración numérica, también conocida como **cuadratura**, es -intrínsecamente- más precisa que la diferenciación numérica. La cuadratura aproxima la integral definida \n",
    "$$\n",
    "\\int_a^b f(x) dx\n",
    "$$\n",
    "por la suma\n",
    "$$\n",
    "I = \\sum_{i=0}^n A_i f(x_i),\n",
    "$$\n",
    "donde las **abscisas nodales** $x_i$ y los \\textit{pesos} $A_i$, dependen de la regla que se use para la cuadratura.\n",
    "\n",
    "\n",
    "Todas las reglas de cuadratura se derivan de la interpolación polinomial del integrando, por lo tanto funcionan mejor si $f(x)$ puede ser aproximada por un polinomio.\n",
    "\n",
    "Las cuadraturas pueden dividirse en dos grupos:\n",
    "\n",
    "1. Newton-Cotes, con abscisas equidistantes. Por ejemplo: regla del trapecio o regla de Simpson. Estan basadas en inteporlación local.\n",
    "2. Gaussiana, con abscisas que se escogen para alcanzar la mejor posible precisión. Como requiere de menos evaluaciones del integrando, este método es popular en casos donde $f(x)$ es muy cara de evaluar. Otra ventaja es que puede tratar singularidades integrables en expresiones tales como\n",
    "$$\n",
    "\\int_0^1 \\frac{g(x)}{\\sqrt{1-x^2}} dx,\n",
    "$$\n",
    "dado que $g(x)$ sea analítica en el dominio de integración.\n",
    "\n"
   ]
  },
  {
   "cell_type": "markdown",
   "id": "9dc2a20b",
   "metadata": {},
   "source": [
    "## Cuadratura Newton-Cotes\n",
    "\n",
    "![DIV](fig/newton-cotes-1.jpg)\n",
    "\n",
    "Consideremos la integral definida\n",
    "\\begin{equation}\n",
    "\\int_a^b f(x) dx\n",
    "\\label{eq:intdef}\n",
    "\\end{equation}\n",
    "Dividimos el rango de integración $(a,b)$ en $n$ intervalos iguales de longitud $h=(b-a)/n$, denotando las abscisas de los nodos resultantes como $x_0, x_1,\\ldots ,x_n$. \n",
    "\n",
    "Luego, aproximamos $f(x)$ con un polinomio de grado $n$ que intersecta todos los nodos. La forma de Lagrange para este polinomio la hemos usado antes, es\n",
    "$$\n",
    "P_n(x) = \\sum_{i=0}^n f(x_i) \\ell_i(x),\n",
    "$$\n",
    "donde $\\ell_i(x)$ son las funciones cardinales, que usamos en Interpolación.\n",
    "\n",
    "Por lo tanto, una aproximación a la integral es\n",
    "\\begin{equation}\n",
    "I=\\int_a^b P_n(x) dx = \\sum_{i=0}^n \\left[f(x_i) \\int_a^b \\ell_i(x) dx \\right] = \\sum_{i=0}^n A_i f(x_i)\n",
    "\\label{eq:nc1}\n",
    "\\end{equation}\n",
    "donde\n",
    "\\begin{equation}\n",
    "A_i = \\int_a^b \\ell_i(x) dx, ~~~~~i=0,1,\\ldots,n\n",
    "\\label{eq:nc2}\n",
    "\\end{equation}\n",
    "\n",
    "Estas expresiones son las \\textit{Fórmulas de Newton-Cote}, cuyos ejemplos clásicos son\n",
    "* la regla trapezoidal ó del trapecio: $n=1$,\n",
    "* la regla de Simpson: $n=2$,\n",
    "* la regla $3/8$ de Simpson: $n=3$.\n",
    "\n",
    "La regla del trapecio se puede combinar con extrapolación de Richardson para tener un algoritmo eficiente llamado **integración de Romberg**, que hace redundantes a todas las otras reglas clásicas.\n"
   ]
  },
  {
   "cell_type": "markdown",
   "id": "b2f11e68",
   "metadata": {},
   "source": [
    "## Regla Trapezoidal\n",
    "\n",
    "![DIV](fig/newton-cotes-2.jpg)\n",
    "\n",
    "Si $n=1$ (un panel), tenemos\n",
    "\n",
    "Y podemos calcular $A_i$\n",
    "$$\n",
    "\\ell_0 = \\frac{(x-x_1)}{(x_0-x_1)} = -\\frac{(x-b)}{h} \\Longrightarrow A_0 = \\frac{1}{h}\\int_a^b (x-b) dx = \\frac{1}{2h} (b-a)^2 = \\frac{h}{2}\n",
    "$$\n",
    "y\n",
    "$$\n",
    "\\ell_1 = \\frac{(x-x_0)}{(x_1-x_0)} = \\frac{(x-a)}{h} \\Longrightarrow A_1 = \\frac{1}{h}\\int_a^b (x-a) dx = \\frac{1}{2h} (b-a)^2 = \\frac{h}{2}\n",
    "$$\n",
    "\n",
    "\n",
    "El error $E$ puede obtenerse integrando la $I$ de las notas en la primera clase sobre Interpolación de este curso,\n",
    "$$\n",
    "E = \\int_{x_0}^{x_n}\\frac{(x-x_0)(x-x_1)\\cdots(x-x_n)}{(n+1)!}f^{(n+1)}(\\xi),\n",
    "$$\n",
    "lo que en nuestro caso es\n",
    "\n",
    "\\begin{eqnarray}\n",
    "E &=& \\frac{1}{2!}\\int_{a}^{b} (x-x_0)(x-x_1) f^{(2)}(\\xi) \\nonumber \\\\\n",
    "  &=& \\frac{f^{(2)}(\\xi)}{2}\\int_{a}^{b} (x-a)(x-b) \\nonumber \\\\\n",
    "  &=& -\\frac{1}{12} (b-a)^3 f^{(2)}(\\xi) \\nonumber \\\\\n",
    "  &=& -\\frac{h^3}{12} f^{(2)}(\\xi). \\label{eq:traperr}\n",
    "\\end{eqnarray}\n",
    "\n",
    "\n"
   ]
  },
  {
   "cell_type": "markdown",
   "id": "95a5c081",
   "metadata": {},
   "source": [
    "## Regla Trapezoidal Compuesta\n",
    "\n",
    "![DIV](fig/newton-cotes-3.jpg)\n",
    "\n",
    "La regla trapezoidal que acabamos de construir se puede aplicar en partes, como se muestra en la figura: podemos dividir la región $(a,b)$ en $n$ paneles, cada uno de anchura $h$. La función $f(x)$ que se va a integrar, puede aproximarse con líneas rectas en cada panel. \n",
    "\n",
    "De la $I$ obtenemos el área aproximada del **i-ésimo** panel\n",
    "$$\n",
    "I=\\left[f(x_i) + f(x_{i+1})\\right] \\frac{h}{2}.\n",
    "$$\n",
    "\n",
    "Por lo tanto, el área total es\n",
    "\\begin{equation}\n",
    "I= \\sum_{i=0}^{n-1}I_i = \\left[f(x_0) + 2f(x_1) + 2f(x_2) + \\cdots + 2 f(x_{n-1}) + f(x_n)\\right] \\frac{h}{2}, \\label{eq:trapcomp}\n",
    "\\end{equation}\n",
    "que es a lo que le denominamos **regla trapezoidal compuesta**.\n",
    "\n",
    "Sabemos que el error de truncamiento en el área de un panel se puede escribir ahora\n",
    "$$\n",
    "E_i = -\\frac{h^3}{12} f^{(2)}(\\xi_i)\n",
    "$$\n",
    "donde $\\xi_i$ se encuentra en $(x_i,x_{i+1})$. Por lo tanto, el error de truncamiento en es\n",
    "$$\n",
    "E= \\sum_{i=0}^{n-1} E_i = -\\frac{h^3}{12} \\sum_{i=0}^{n-1} f^{(2)}(\\xi_i),\n",
    "$$\n",
    "pero si $\\langle  f^{(2)} \\rangle$ es la media aritmética de las segundas derivadas, podemos reescribirla como\n",
    "$$\n",
    "E= -\\frac{h^3}{12} ~ n~ \\langle  f^{(2)} \\rangle.\n",
    "$$\n",
    "Además, si $f^{(2)}(x)$ es contínua, debe existir un punto $\\xi$ en $(a,b)$ en el cual $\\langle  f^{(2)} \\rangle = f^{(2)}(\\xi)$, lo que nos permite decir que\n",
    "\\begin{equation}\n",
    "E= -\\frac{h^3}{12} ~ \\frac{(b-1)}{h}~ f^{(2)}(\\xi) =  -\\frac{(b-a) h^2}{12} ~ f^{(2)}(\\xi).\n",
    "\\end{equation}\n",
    "Usando la suma de Euler-Maclaurin se puede mostrar que si $f(x)$ y sus derivadas son finitas en $(a,b)$, entonces $E= c_1 h + c_2 h^4 + c_3 h^6 + \\cdots $.\n",
    "\n",
    "\n",
    "\n",
    "\t"
   ]
  },
  {
   "cell_type": "markdown",
   "id": "4f822803",
   "metadata": {},
   "source": [
    "## Regla Trapezoidal Recursiva\n",
    "\n",
    "Supongamos que $I_k$ es la integral evaluada con la regla trapezoidal compuesta, usando $2^{k-1}$ paneles (nota que si $k$ aumenta una unidad, se dobla el número de panles). Usando la notación $H=b-a$, podemos utilizar $I$ para tener los resultados para $k=1,2,3$:\n",
    "\n",
    "    k=1 (un panel)\n",
    "\\begin{equation}\n",
    "I_1 = \\left[f(a) + f(b) \\right]\\frac{H}{2} \\label{eq:unpanel}\n",
    "\\end{equation}\n",
    "    \n",
    "    k=2 (dos paneles)\n",
    "\n",
    "\\begin{equation*}\n",
    "I_2 = \\left[f(a) + 2f\\left(a + \\frac{H}{2}\\right) + f(b) \\right]\\frac{H}{4} = \\frac{1}{2}I_1 + f\\left(a + \\frac{H}{2}\\right)\\frac{H}{2}\n",
    "\\end{equation*}\n",
    "\n",
    "Usando la notación $H=b-a$, podemos utilizar $I$ para tener los resultados para $k=1,2,3$:\n",
    "\n",
    "    k=3 (cuatro paneles)\n",
    "\n",
    "$$I_3 = \\left[f(a) + 2f\\left(a + \\frac{H}{4}\\right) + 2f\\left(a + \\frac{H}{2}\\right) + 2f\\left(a + \\frac{3H}{4}\\right) + f(b) \\right]\\frac{H}{8} \n",
    "$$\n",
    "    \n",
    "$$ \n",
    "I_3= \\frac{1}{2}I_2 + \\left[f\\left(a + \\frac{H}{4}\\right) + f\\left(a + \\frac{3H}{4}\\right)\\right]\\frac{H}{4} \n",
    "$$\n",
    "    \n",
    "entonces para $k>1$ ($2^{k-1}$ paneles)\n",
    "\t\n",
    "\\begin{eqnarray*}\n",
    "\t\tI_k &=& \\frac{1}{2}I_{k-1} + \\frac{H}{2^{k-1}}  \\sum_{i=1}^{2^{k-2}} f\\left[a + \\frac{(2i-1)H}{2^{k-1}}\\right], ~~~~~ k=2,3,\\ldots\n",
    "\\end{eqnarray*}\n",
    "\n",
    "Esta es la **regla trapezoidal recursiva**, para $k>1$ ($2^{k-1}$ paneles)\n",
    "\n",
    "\\begin{eqnarray}\n",
    "\tI_k &=& \\frac{1}{2}I_{k-1} + \\frac{H}{2^{k-1}}  \\sum_{i=1}^{2^{k-2}} f\\left[a + \\frac{(2i-1)H}{2^{k-1}}\\right], ~~~ k=2,3,\\ldots \\label{eq:traprec}\n",
    "\\end{eqnarray}\n",
    "\n",
    "Noten que la suma contiene solo los nuevos nodos que se crearon cuando se dobla el número de paneles. La ventaja de usar esta regla es que puedes monitorear la convergencia y parar el proceso cuando la diferencia entre $I_{k-1}$ y $I_k$ sea lo suficientemente pequeña.\n",
    "\n",
    "Una manera sencilla de recordar esta regla es notar que\n",
    "\n",
    "\\begin{equation}\n",
    "I(h) = \\frac{1}{2} I(2h) + h\\sum f(x_{new}),\n",
    "\\end{equation}\n",
    "donde $h=H/n$ es la anchura de cada panel.\n"
   ]
  },
  {
   "cell_type": "markdown",
   "id": "5adfe235",
   "metadata": {},
   "source": [
    "## Algoritmo de la regla trapezoidal recursiva\n",
    "\n",
    "La función **trapecio_recursiva** calcula $I_k$ (*Inew*), dado que se conoce $I_{k-1}$ (*Iold*), usando las ecuaciones para $I_1$ e $I_k$. Podemos calcular $\\int_{a}^{b} f(x) dx$ usando esta función con $k=1,2,\\ldots$ hasta que se alcance la precisión deseada."
   ]
  },
  {
   "cell_type": "code",
   "execution_count": 3,
   "id": "a3a4f947",
   "metadata": {},
   "outputs": [],
   "source": [
    "## modulo regla trapezoidal recursiva\n",
    "'''Inew = trapecio_recursiva(f,a,b,Iold,k).\n",
    "Iold = Integral de f(x) de x = a hasta b calculada\n",
    "con la regla trapezoidal recursiva con 2ˆ(k-1) paneles.\n",
    "Inew = la misma integral calculada con 2ˆk paneles.\n",
    "'''\n",
    "def trapecio_recursiva(f,a,b,Iold,k):\n",
    "  if k == 1: Inew = (f(a) + f(b))*(b - a)/2.0\n",
    "  else:\n",
    "    n = 2**(k -2 ) # numero de nuevos puntos\n",
    "    h = (b - a)/n # espaciamiento de nuevos puntos\n",
    "    x = a + h/2.0\n",
    "    sum = 0.0\n",
    "    for i in range(n):\n",
    "      sum = sum + f(x)\n",
    "      x = x + h\n",
    "      Inew = (Iold + h*sum)/2.0\n",
    "  return Inew"
   ]
  },
  {
   "cell_type": "markdown",
   "id": "9e87232c",
   "metadata": {},
   "source": [
    "# Ejemplo 1:\n",
    "\n",
    "Usa la regla trapezoidal recursiva para evaluar $\\int_{0}^{\\pi} \\sqrt{x}\n",
    "\\cos x~ dx$ con hasta 6 decimales e indica cuantos paneles se necesitan para lograr este resultado."
   ]
  },
  {
   "cell_type": "code",
   "execution_count": 4,
   "id": "70e9eb26",
   "metadata": {},
   "outputs": [
    {
     "name": "stdout",
     "output_type": "stream",
     "text": [
      "Integral = -0.8948316648532865\n",
      "nPanels = 32768\n"
     ]
    }
   ],
   "source": [
    "import math\n",
    "def f(x): return math.sqrt(x)*math.cos(x) \n",
    "Iold = 0.0\n",
    "for k in range(1,21):\n",
    "  Inew = trapecio_recursiva(f,0.0,math.pi,Iold,k)\n",
    "  if (k > 1) and (abs(Inew - Iold)) < 1.0e-6: break\n",
    "  Iold = Inew\n",
    "\n",
    "print('Integral =',Inew)\n",
    "print('nPanels =',2**(k-1))"
   ]
  },
  {
   "cell_type": "markdown",
   "id": "63aa55b0",
   "metadata": {},
   "source": [
    " La convergencia tan lenta es producto de que el integrando es singular en $x=0$. Introduce el cambio de variable $t=\\sqrt{x}$ en esta integral y vuelve a calcularla, ¿Qué sucede ahora con la convergencia?"
   ]
  },
  {
   "cell_type": "code",
   "execution_count": 5,
   "id": "0493d02e",
   "metadata": {},
   "outputs": [
    {
     "name": "stdout",
     "output_type": "stream",
     "text": [
      "Integralnueva = -0.8948315801170068\n",
      "nPanelsnuevos = 4096\n"
     ]
    }
   ],
   "source": [
    "def g(x): return 2*x**2*math.cos(x**2)\n",
    "Iold = 0.0\n",
    "for k in range(1,21):\n",
    "  Inew = trapecio_recursiva(g,0.0,math.sqrt(math.pi),Iold,k)\n",
    "  if (k > 1) and (abs(Inew - Iold)) < 1.0e-6: break\n",
    "  Iold = Inew\n",
    "\n",
    "print('Integralnueva =',Inew)\n",
    "print('nPanelsnuevos =',2**(k-1))"
   ]
  }
 ],
 "metadata": {
  "kernelspec": {
   "display_name": "Python 3 (ipykernel)",
   "language": "python",
   "name": "python3"
  },
  "language_info": {
   "codemirror_mode": {
    "name": "ipython",
    "version": 3
   },
   "file_extension": ".py",
   "mimetype": "text/x-python",
   "name": "python",
   "nbconvert_exporter": "python",
   "pygments_lexer": "ipython3",
   "version": "3.8.10"
  }
 },
 "nbformat": 4,
 "nbformat_minor": 5
}
