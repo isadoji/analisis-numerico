{
 "cells": [
  {
   "cell_type": "markdown",
   "id": "05320796",
   "metadata": {},
   "source": [
    "# Cuadratura Gaussiana \n",
    "\n",
    "La Cuadratura de Newton-Cotes para aproximar $ \\int_a^b f(x) dx $ funciona mejor si $f(x)$ es una función suave, tal como un polinomio. \n",
    "\n",
    "Esto también es cierto para la **Cuadratura Gaussiana**, sin embargo, esta es también buena para estimar integrales de la forma\n",
    "\n",
    "\\begin{equation*}\n",
    "\\int_a^b w(x) f(x) dx\n",
    "\\end{equation*}\n",
    "\n",
    "donde $w(x)$ es una *función peso*, que puede contener singularidades integrables. Por ejemplo la integral $\\int_0^1 (1+x^2)~\\ln(x)dx$ ó la integral $\\int_0^\\infty e^{-x} \\sin(x)dx$, pueden ser estimadas con esta cuadratura.\n",
    "\n",
    "La cuadratura Gaussiana tiene la misma forma que la de Newton-Cotes\n",
    "\n",
    "\\begin{equation*}\n",
    "I = \\sum_{i=0}^n A_i f(x_i)\n",
    "\\end{equation*}\n",
    "\n",
    "pero se calcula de diferente manera tanto las **abscisas nodales** $x_i$, como los **pesos** $A_i$.\n",
    "\n",
    "En la cuadratura de Newton-Cotes los nodos de integración estan igualmente espaciados en $(a,b)$, por lo que su localización es predeterminada. En la cuadratura Gaussiana los nodos y los pesos se escogen para la integral exacta si $f(x)$ es un polinomio de grado $2n + 1$ o menor; es decir,\n",
    "\n",
    "\\begin{equation*}\n",
    "\\int_a^b w(x) P_m(x) dx = \\sum_{i=0}^{n} A_i P_m(x_i),~~~~~ m \\leq 2n + 1.\n",
    "\\end{equation*}\n",
    "\n",
    "Una manera de determinar los pesos y abscisas es sustituir $P_0(x) = 1, P_1(x) = x, \\ldots , P_{2n + 1}(x) = x^{2n + 1}$ y resolver las $2n + 2$ ecuaciones simultáneas para las incógnitas $A_i$ y $x_i$\n",
    "\n",
    "$$\n",
    "\\int_a^b w(x) x^j dx = \\sum_{i=0}^{n} A_i x_i^j,~~~~~ j=0,1,\\ldots , 2n + 1.\n",
    "$$\n",
    "\n"
   ]
  },
  {
   "cell_type": "markdown",
   "id": "68727f04",
   "metadata": {},
   "source": [
    "Un ejemplo con  $w(x) = e^{-x}, a=0, b=\\infty$ y $n=1$.\n",
    "\n",
    "Las cuatro ecuaciones simultáneas a resolver para determinar $x_0, x_1, A_0, A_1$ son:\n",
    "\n",
    "\\begin{align*}\n",
    "\\int_{0}^{\\infty} e^{-x} dx = A_0 + A_1, &&\n",
    "\\int_{0}^{\\infty} x e^{-x} dx = A_0 x_0 + A_1 x_1, \\\\\n",
    "\\int_{0}^{\\infty} x^2 e^{-x} dx = A_0 x_0^2 + A_1 x_1^2, &&\n",
    "\\int_{0}^{\\infty} x^3 e^{-x} dx = A_0 x_0^3 + A_1 x_1^3, \n",
    "\\end{align*}\n",
    "\n",
    "cuya solución, después de evaluar las integrales definidas, es\n",
    "\n",
    "\\begin{align*}\n",
    "x_0= 2 - \\sqrt{2}, ~~~~~  A_0 = \\frac{\\sqrt{2}+1}{2\\sqrt{2}}, && x_1= 2 + \\sqrt{2}, ~~~~~  A_1 = \\frac{\\sqrt{2}-1}{2\\sqrt{2}}\n",
    "\\end{align*}\n",
    "\n",
    "Con los resultados anteriores la estimación de la integral $\n",
    "\\int_a^b w(x) x^j dx = \\sum_{i=0}^{n} A_i x_i^j,~~~~~ j=0,1,\\ldots , 2n + 1,\n",
    "$ queda\n",
    "\n",
    "$$\n",
    "\\int_0^\\infty e^{-x} f(x) dx \\sim \\frac{1}{2\\sqrt{2}} \\left[(\\sqrt{2}+1) f(2-\\sqrt{2})  + (\\sqrt{2}-1) f(2+\\sqrt{2}) \\right]\n",
    "$$\n",
    "\n",
    "Entonces, esta expresión esta lista para usarse en la determinación de integrales definidas donde la función peso es $e^{-x}$ para $n=1$. Debido a que el sistema de ecuaciones que resolvimos es no-lineal, esta manera de encontrar estimaciones de integrales se vuelve impráctica para valores grandes de $n$.\n",
    "\n",
    "La manera práctica de determinar abscisas y funciones peso, es estudiando la relación que existe entre la teoría de los polinomios ortogonales y su relación con la Cuadratura Gaussiana.\n"
   ]
  },
  {
   "cell_type": "markdown",
   "id": "3d491710",
   "metadata": {},
   "source": [
    "## Polinomios ortogonales - resumen\n",
    "\n",
    "Los polinomios $\\psi_n(x)$ de grado $n=0,1,2,\\ldots$ forman una base ortogonal en el intervalo $(a,b)$ con respecto a la función peso $w(x)$ si\n",
    "\n",
    "\\begin{equation*}\n",
    "\\int_{a}^{b} w(x) \\psi_m(x) \\psi_n(x) dx = 0, ~~~~~ m \\neq n \n",
    "\\end{equation*}\n",
    "\n",
    "La base esta completamente determinada hasta una constante, una vez que se conoce la función peso y los límites de integración, bajo un dominio de estandarización."
   ]
  },
  {
   "cell_type": "markdown",
   "id": "28b05a13",
   "metadata": {},
   "source": [
    "$$\n",
    "\\begin{align*}\n",
    "\\begin{array}{|c|c|c|c|c|c|}\n",
    "Nombre & Notación & a & b & w(x) & \\int_{a}^{b} w(x) \\left[ \\psi_n(x) \\right]^2 dx \\\\\n",
    "Legendre & P_n(x) & -1 & +1 & +1 & 2/(2n + 1) \\\\\n",
    "Chebyshev & T_n(x) & -1 & +1 & (1-x^2)^{1/2} & \\pi/2~~~(n>0) \\\\\n",
    "Laguerre & L_n(x) & 0 & +\\infty & e^{-x} & +1 \\\\\n",
    "Hermite & H_n(x) & -\\infty & +\\infty & e^{-x^2} & \\sqrt{\\pi}2^n n!\n",
    "\\end{array}\n",
    "\\end{align*}\n",
    "$$"
   ]
  },
  {
   "cell_type": "markdown",
   "id": "41933249",
   "metadata": {},
   "source": [
    "Estos polinomios obedecen relaciones de recurrencia de la forma\n",
    "\n",
    "\\begin{equation*}\n",
    "a_n \\psi_{n+1}(x) = (b_n + c_n x) \\psi_{n}(x) - d_n \\psi_{n-1}(x)\n",
    "\\end{equation*}\n",
    "\n",
    "Si los primeros dos polinomios de la base se conocen, los otros polinomios se pueden construir:"
   ]
  },
  {
   "cell_type": "markdown",
   "id": "f41960e2",
   "metadata": {},
   "source": [
    "$$\n",
    "\\begin{align*}\n",
    "\t\\begin{array}{|c|c|c|c|c|c|c|}\n",
    "\t\tNombre & \\psi_0(x) & \\psi_1(x) & a_n & b_n & c_n & d_n \\\\\n",
    "\t\tLegendre & +1 & x & n+1 & 0 & 2n+1 & n \\\\\n",
    "\t\tChebyshev & +1 & x & +1 & 0 & +2 & +1 \\\\\n",
    "\t\tLaguerre & +1 & 1-x & n+1 & 2n+1 & -1 & n \\\\\n",
    "\t\tHermite & +1 & 2x & +1 & 0 & +2 & +2 \n",
    "\t\\end{array}\n",
    "\\end{align*}\n",
    "$$"
   ]
  },
  {
   "cell_type": "markdown",
   "id": "bd40e88f",
   "metadata": {},
   "source": [
    "Otras propiedades importantes son\n",
    "* $\\psi_{n}(x)$ tiene $n$ ceros diferentes y reales en el intervalo $(a,b)$\n",
    "* los ceros de $\\psi_{n}(x)$ estan entre los ceros de $\\psi_{n+1}(x)$\n",
    "* cualquier polinomio $P_n(x)$ de grado $n$ puede ser expresado como\n",
    "\t\n",
    "\\begin{equation*}\n",
    "\tP_n(x) = \\sum_{i=0}^{n} c_i \\psi_i(x)\n",
    "\\end{equation*}\n",
    "\n",
    "* y utilizando la base, la propiedad de ortogonalidad queda\n",
    "\t\n",
    "\\begin{equation*}\n",
    "\\int_{a}^{b} w(x) P_n(x) \\psi_{m+n}(x) dx = 0, ~~~~~ m \\leq 0\n",
    "\\end{equation*}\n",
    "\t"
   ]
  },
  {
   "cell_type": "markdown",
   "id": "dbef191e",
   "metadata": {},
   "source": [
    "## Abscisas nodales y pesos en la cuadratura Gaussiana - Polinomios Ortogonales\n",
    "\n",
    "Existen dos resultados importantes (teoremas) que conectan las propiedades de los polinomios ortogonales, con la determinación de abscisas y pesos en la Cuadratura Gaussiana:\n",
    "\n",
    "* Las abscisas nodales $x_0,x_1,\\ldots ,x_n$ son los ceros del polinomio $\\psi_{n+1}(x)$ que pertenece a la base ortogonal.\n",
    "* Conociendo los ceros del polinomio, los pesos de la cuadratura Gaussiana $A_i$ se determinan como\n",
    "\n",
    "\\begin{equation*}\n",
    "A_i = \\int_{a}^{b} w(x) \\ell_i(x) dx, ~~~~~ i=0,1,\\ldots ,n\n",
    "\\end{equation*}\n",
    "\n",
    "donde $\\ell_i(x)$ son las funciones cardinales de Lagrange que - como ya vimos- se construyen en términos de $x_0,x_1,\\ldots ,x_n$.\n",
    "\n",
    "Como ya vimos en este curso, tenemos métodos numéricos para encontrar los ceros de polinomios que podemos usar para determinar las abscisas nodales y las funciones peso en la Cuadratura Gaussiana. Sin embargo, los ceros de estos polinomios ortogonales clásicos, se conocen a profundidad (por su amplio rango de aplicabilidad) y existen expresiones analíticas en la literatura para encontrarlos.\n",
    "\n",
    "Finalmente, el error de truncamiento en la Cuadratura Gaussiana, se obtiene como\n",
    "\n",
    "$$\n",
    "E= \\int_{a}^{b} w(x) f(x) dx - \\sum_{i=0}^{n} A_i f(x_i)\n",
    "$$\n",
    "\n",
    "y tiene la forma\n",
    "\n",
    "$$\n",
    "E = K(n) f^{(2n+2)}(c), ~~~~~ a< c < b\n",
    "$$\n",
    "\n",
    "y la forma específica de $K(n)$ depende del polinomio usado.\n"
   ]
  },
  {
   "cell_type": "markdown",
   "id": "c0cc0830",
   "metadata": {},
   "source": [
    "## Cuadratura Gauss-Legendre\n",
    "\n",
    "Es la mas popular:\n",
    "\n",
    "\\begin{equation*}\n",
    "\\int_{-1}^{+1} f(x) dx \\sim \\sum_{i=0}^{n} A_i f(x_i)\n",
    "\\end{equation*}\n",
    "\n",
    "donde"
   ]
  },
  {
   "cell_type": "markdown",
   "id": "34b258e0",
   "metadata": {},
   "source": [
    "$$\n",
    "\\begin{align*}\n",
    "\\begin{array}{|c|c|c||c|c|c| }\n",
    "\t\t\tn & \\pm x_i & A_i & n & \\pm x_i & A_i\\\\\n",
    "\t\t\t1 & 0.577350 & 1.000000 & 4 & 0.000000 & 0.568889 \\\\\n",
    "\t\t\t2 & 0.000000 & 0.888889 &   & 0.538469 & 0.478629 \\\\\n",
    "\t\t\t  & 0.774597 & 0.555556 &   & 0.906180 & 0.236927 \\\\\n",
    "\t\t\t3 & 0.339981 & 0.652145 & 5 & 0.238619 & 0.467914 \\\\\n",
    "\t\t\t  & 0.861136 & 0.347855 &   & 0.661209 & 0.360762 \\\\\n",
    "\t\t\t  &          &          &   & 0.932470 & 0.171324\n",
    "\\end{array}\n",
    "\\end{align*}\t\t\n",
    "$$"
   ]
  },
  {
   "cell_type": "markdown",
   "id": "e9c5ab65",
   "metadata": {},
   "source": [
    "\n",
    "y el error de truncamiento es\n",
    "\n",
    "\\begin{equation*}\n",
    "E= \\frac{2^{2n+3}[(n+1)!]^4}{(2n+3)[(2n+2)!]^3} f^{(2n+2)}(c), ~~~~~ -1< c < +1.\n",
    "\\end{equation*}\n",
    "\n",
    "Para aplicar esta cuadratura a la integral $\\int_{a}^{b} f(x) dx$, debemos hacer un mapeo del rango de integración $(a,b)$ al rango estandarizado $(-1,+1)$. Podemos lograrlo con la transformación\n",
    "\n",
    "\\begin{equation*}\n",
    "x = \\frac{b+a}{2} + \\frac{b-a}{2} \\xi.\n",
    "\\end{equation*}\n",
    "\n",
    "Ahora $dx = d\\xi (b-a)/2$ y la cuadratura ahora será\n",
    "\n",
    "\\begin{equation*}\n",
    "\\int_a^b f(x) dx = \\frac{b-a}{2} \\sum_{i=1}^{n} A_i f(x_i)\n",
    "\\end{equation*}\n",
    "\n",
    "donde las abscisas $x_i$ se calculan a partir de la transformación y el error de truncamiento queda\n",
    "\n",
    "\\begin{equation*}\n",
    "E= \\frac{(b-a)^{2n+3}[(n+1)!]^4}{(2n+3)[(2n+2)!]^3} f^{(2n+2)}(c), ~~~~~ a< c <b.\n",
    "\\end{equation*}"
   ]
  },
  {
   "cell_type": "markdown",
   "id": "40b5d9af",
   "metadata": {},
   "source": [
    "## Algoritmo para la cuadratura Gauss-Legendre\n",
    "\n",
    "La función **nodosGauss** nos dá los valores de las abscisas nodales $x_i$ y los pesos correspondientes $A_i$ para la Cuadratura Gauss-Legendre, sobre el intervalo de definición $(-1,1)$. \n",
    "\n",
    "Considerando que los valores aproximados de las abscisas se pueden obtener de manera aproximada como  \n",
    "\n",
    "$$\n",
    "x_i = \\cos\\frac{\\pi(i+0.75)}{m+0.5}~~~~m=n+1~(número~de~nodos),\n",
    "$$\n",
    "\n",
    "podemos usar el método Newton-Raphson para encontrar los ceros no-negativos de los polinomios de Legendre. \n",
    "\n",
    "Esta función **nodosGauss** utiliza otra función llamada **legendre**, que calcula el polinomio correspondiente $\\mathcal{P}_m(t)$ y su derivada, para reportarlo como la dupla **p,dp**."
   ]
  },
  {
   "cell_type": "code",
   "execution_count": null,
   "id": "06bdcb6b",
   "metadata": {},
   "outputs": [],
   "source": [
    "import matplotlib.pyplot as plt\n",
    "import numpy as np\n",
    "\n",
    "def plot_legendre_polynomial(n):\n",
    "    x = np.linspace(-1, 1, 1000)\n",
    "    y = np.polynomial.legendre.Legendre.basis(n)(x)\n",
    "    plt.plot(x, y, label=f'P_{n}(x)')\n",
    "    plt.legend()\n",
    "    plt.title(f'Legendre Polynomial of order {n}')\n",
    "    plt.xlabel('x')\n",
    "    plt.ylabel(f'P_{n}(x)')\n",
    "    plt.show()"
   ]
  },
  {
   "cell_type": "code",
   "execution_count": null,
   "id": "9d0daef4",
   "metadata": {},
   "outputs": [
    {
     "data": {
      "image/png": "[encoded data removed]",
      "text/plain": [
       "<Figure size 640x480 with 1 Axes>"
      ]
     },
     "metadata": {},
     "output_type": "display_data"
    }
   ],
   "source": [
    "x = np.linspace(-1, 1, 1000)\n",
    "y1 = np.polynomial.legendre.Legendre.basis(1)(x)\n",
    "y2 = np.polynomial.legendre.Legendre.basis(2)(x)\n",
    "y3 = np.polynomial.legendre.Legendre.basis(3)(x)\n",
    "\n",
    "plt.plot(x, y1, label='P_1(x)')\n",
    "plt.plot(x, y2, label='P_2(x)')\n",
    "plt.plot(x, y3, label='P_3(x)')\n",
    "plt.legend()\n",
    "plt.title('Legendre Polynomials')\n",
    "plt.xlabel('x')\n",
    "plt.ylabel('P_n(x)')\n",
    "plt.show()"
   ]
  },
  {
   "cell_type": "code",
   "execution_count": 10,
   "id": "6eb31cf1",
   "metadata": {},
   "outputs": [],
   "source": [
    "''' \n",
    "Modulo nodosGauss\n",
    "\n",
    "x,A = nodosGauss(m,tol=10e-9)\n",
    "Calcula las abscisas nodales {x} y los pesos {A}\n",
    "de la Cuadratura Gauss-Legendre de m puntos.\n",
    "'''\n",
    "\n",
    "import math\n",
    "import numpy as np\n",
    "\n",
    "def nodosGauss(m,tol=10e-9):\n",
    "\n",
    "  def legendre(t,m):\n",
    "    p0 = 1.0; p1 = t\n",
    "    for k in range(1,m):\n",
    "      p = ((2.0*k + 1.0)*t*p1 - k*p0)/(1.0 + k )\n",
    "      p0 = p1; p1 = p\n",
    "    dp = m*(p0 - t*p1)/(1.0 - t**2)\n",
    "    return p,dp\n",
    "\n",
    "  A = np.zeros(m)\n",
    "  x = np.zeros(m)\n",
    "  nRoots = int((m + 1)/2)                      # Numero de raices no negativas\n",
    "  \n",
    "  for i in range(nRoots):\n",
    "    t = math.cos(math.pi*(i + 0.75)/(m + 0.5)) # Expresion raiz aprox\n",
    "    for j in range(30):\n",
    "      p,dp = legendre(t,m)                     # Metodo Newton-Raphson\n",
    "      dt = -p/dp; t = t + dt                   # Metodo Newton-Raphson\n",
    "      if abs(dt) < tol:\n",
    "        x[i] = t; x[m-i-1] = -t\n",
    "        A[i] = 2.0/(1.0 - t**2)/(dp**2)        # Expresion para pesos de Legendre\n",
    "        A[m-i-1] = A[i]\n",
    "        break\n",
    "  return x,A\n",
    "\n",
    " \n",
    "'''\n",
    "Modulo cuadraGaussLegen\n",
    "\n",
    "I = cuadraGaussLegen(f,a,b,m)\n",
    "Calcula la integral de f(x) de x = a hasta b\n",
    "con la cuadratura Gauss-Legendre de m nodos.\n",
    "'''\n",
    "\n",
    "def cuadraGaussLegen(f,a,b,m):\n",
    "  c1 = (b + a)/2.0\n",
    "  c2 = (b - a)/2.0\n",
    "  x,A = nodosGauss(m)\n",
    "#####  print('abscisa y peso:',x,A)\n",
    "  sum = 0.0\n",
    "  for i in range(len(x)):\n",
    "    sum = sum + A[i]*f(c1 + c2*x[i])\n",
    "  return c2*sum"
   ]
  },
  {
   "cell_type": "markdown",
   "id": "ed284fc1",
   "metadata": {},
   "source": [
    "# Ejemplo 1\n",
    "\n",
    "Determina cuantos nodos son necesarios para evaluar\n",
    "\n",
    "$$\n",
    "\\int_{0}^{\\pi} \\left(\\frac{\\sin x}{x}\\right)^2 dx\n",
    "$$\n",
    "\n",
    "con la cuadratura Gauss-Legendre y con seis decimales. La integral analítica con seis decimales vale 1.41815.\n",
    "\n",
    "El integrando es una función suave y permite el uso de esta cuadratura. Hay una indeterminación en $x=0$, sin embargo el algoritmo funciona y obtenemos el resultado deseado con solo 5 nodos! ?¿Por qué?"
   ]
  },
  {
   "cell_type": "code",
   "execution_count": 11,
   "id": "5abb4844",
   "metadata": {},
   "outputs": [
    {
     "name": "stdout",
     "output_type": "stream",
     "text": [
      "Numero de nodos = 5\n",
      "Integral = 1.418150267782668\n"
     ]
    }
   ],
   "source": [
    "##### ejempĺo Integral de (sin(x)/x)^2 de 0 a pi\n",
    "\n",
    "def f(x): return (math.sin(x)/x)**2\n",
    "a = 0.0; b = math.pi\n",
    "\n",
    "Iexact = 1.41815\n",
    "\n",
    "for m in range(2,12):\n",
    "  I = cuadraGaussLegen(f,a,b,m)\n",
    "  if abs(I - Iexact) < 0.00001:\n",
    "    print('Numero de nodos =',m)\n",
    "    print('Integral =', cuadraGaussLegen(f,a,b,m))\n",
    "    break"
   ]
  },
  {
   "cell_type": "markdown",
   "id": "d2976c5f",
   "metadata": {},
   "source": [
    "# Integrales numéricas múltiples\n",
    "\n",
    "¿Qué sucede si ahora queremos calcular integrales de área $\\int \\int_{A} f(x,y) dx~dy$? También podemos resolverlas con cuadraturas!\n",
    "\n",
    "Si la región de integración $A$ tiene una forma geométrica regular, la implementación de la cuadratura es directa. Si es irregular la región $A$, podemos aproximarla con un ensamble de subregiones triangulares o cuadradas $A_1,A_2,\\ldots ,$ llamadas **elementos finitos**.\n"
   ]
  },
  {
   "cell_type": "markdown",
   "id": "ead39baf",
   "metadata": {},
   "source": [
    "<center> <div> <img src=\"../fig/elementofinito1.jpg\" alt=\"Drawing\" style=\"width: 300px;\"/></div>"
   ]
  },
  {
   "cell_type": "markdown",
   "id": "1f4f4cf8",
   "metadata": {},
   "source": [
    "La integral sobre $A$ puede ser estimada, sumando las integrales sobre los elementos finitos:\n",
    "\n",
    "$$\n",
    "\\int \\int_{A} f(x,y) ~dx~dy \\approx \\sum_{i} \\int \\int_{A_i} f(x,y) ~dx~dy\n",
    "$$\n",
    "\n",
    "Las integrales de volúmen pueden calcularse de manera análoga, usando tetraedros o prismas rectangulares como elementos finitos.\n",
    "\n",
    "## Cuadratura Gauss-Legendre sobre un cuadrilátero\n",
    "\n",
    "Por ejemplo, para la integral doble\n",
    "\n",
    "$$\n",
    "I = \\int_{-1}^{1} \\int_{-1}^{1} f(x,y) ~dx~dy\n",
    "$$\n",
    "\n",
    "podemos evaluar cada integral con una Cuadratura Gauss-Legendre usando $n+1$ puntos de integración para cada dimensión sobre el cuadrilátero regular asi\n",
    "\n",
    "$$\n",
    "I = \\int_{-1}^{1} \\sum_{i=0}^{n} A_i f(x_i,y) ~dy = \\sum_{j=0}^{n} A_j \\left[ \\sum_{i=0}^{n} A_i f(x_i,y_j) \\right]\n",
    "$$\n",
    "\n",
    "es decir\n",
    "\n",
    "$$\n",
    "I = \\sum_{i=0}^{n}  \\sum_{j=0}^{n} A_i A_j  f(x_i,y_j).\n",
    "$$\n",
    "\n",
    "Si el cuadrilátero es irregular, simplemente hay que hacer un mapeo entre el irregular y el regular, lo cual implica una regla de transformación de coordenadas, lo que le agrega al resultado el Jacobiano de la transformación."
   ]
  },
  {
   "cell_type": "markdown",
   "id": "ef6b795c",
   "metadata": {},
   "source": [
    "## Integrción con scipy\n",
    "\n",
    "https://docs.scipy.org/doc/scipy/reference/integrate.html"
   ]
  },
  {
   "cell_type": "code",
   "execution_count": 12,
   "id": "5b59b1ee",
   "metadata": {},
   "outputs": [
    {
     "name": "stdout",
     "output_type": "stream",
     "text": [
      "(-0.8948314694841447, 5.742084585591556e-11)\n",
      "-0.8948314694841447\n"
     ]
    }
   ],
   "source": [
    "from scipy.integrate import quad, dblquad, nquad\n",
    "from numpy import sin, pi\n",
    "f = lambda x: math.sqrt(x)*math.cos(x)\n",
    "print(quad(f, 0, pi))\n",
    "I, _ = quad(f, 0, pi) #Integral y el error\n",
    "print (I)#Integral"
   ]
  },
  {
   "cell_type": "code",
   "execution_count": 13,
   "id": "2eda22fd",
   "metadata": {},
   "outputs": [
    {
     "name": "stdout",
     "output_type": "stream",
     "text": [
      "(0.9999999999999999, 4.414734146837848e-14)\n"
     ]
    }
   ],
   "source": [
    "fn = lambda x,y: x**2*y + x*y**2\n",
    "ax = 1; bx = 2; ay = -1; by = 1\n",
    "print(dblquad(fn, ax, bx, lambda y:ay, lambda y:by))"
   ]
  }
 ],
 "metadata": {
  "kernelspec": {
   "display_name": "base",
   "language": "python",
   "name": "python3"
  },
  "language_info": {
   "codemirror_mode": {
    "name": "ipython",
    "version": 3
   },
   "file_extension": ".py",
   "mimetype": "text/x-python",
   "name": "python",
   "nbconvert_exporter": "python",
   "pygments_lexer": "ipython3",
   "version": "3.12.8"
  }
 },
 "nbformat": 4,
 "nbformat_minor": 5
}
